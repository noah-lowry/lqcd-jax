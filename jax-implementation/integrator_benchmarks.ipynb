{
 "cells": [
  {
   "cell_type": "markdown",
   "metadata": {},
   "source": [
    "#### 1. This section is about empirical Hamiltonian error vs. real integration time by integrator"
   ]
  },
  {
   "cell_type": "code",
   "execution_count": null,
   "metadata": {},
   "outputs": [],
   "source": [
    "from functools import partial\n",
    "\n",
    "import pandas as pd\n",
    "import numpy as np\n",
    "from tqdm import tqdm\n",
    "\n",
    "import jax\n",
    "jax.config.update(\"jax_default_matmul_precision\", \"highest\")\n",
    "jax.config.update(\"jax_debug_nans\", True)\n",
    "import jax.numpy as jnp\n",
    "\n",
    "from special_unitary import (\n",
    "    fast_expi_su3,\n",
    "    special_unitary_grad,\n",
    "    unitary_violation,\n",
    "    proj_SU3\n",
    ")\n",
    "\n",
    "from integrators import int_2LF, int_2MN, int_4MN4FP, int_4MN5FV\n",
    "from gauge_field_utils import (\n",
    "    luscher_weisz_action,\n",
    "    luscher_weisz_gauge_error,\n",
    ")\n",
    "\n",
    "%matplotlib inline\n",
    "import matplotlib.pyplot as plt"
   ]
  },
  {
   "cell_type": "code",
   "execution_count": 2,
   "metadata": {},
   "outputs": [],
   "source": [
    "def HMC(action_fn, error_fn, integrator, tau_md=1.0, steps_md=10, unitary_violation_tol=5e-6):\n",
    "\n",
    "    action_grad = special_unitary_grad(action_fn)\n",
    "    \n",
    "    def step_fn(links, random_key, skip_metropolis=False):\n",
    "        key1, key2 = jax.random.split(random_key, 2)\n",
    "        Nc = links.shape[-1]\n",
    "\n",
    "        p0 = jax.random.normal(key1, shape=(*links.shape[:-2], Nc*Nc-1))\n",
    "\n",
    "        links_next, p_final = integrator(links, p0, action_grad, tau_md, steps_md)\n",
    "        links_next = jax.lax.cond(\n",
    "            unitary_violation_tol is not None,\n",
    "            lambda: jax.lax.cond(\n",
    "                unitary_violation(links_next, \"mean\") > unitary_violation_tol,\n",
    "                proj_SU3,\n",
    "                lambda x: x,\n",
    "                links_next\n",
    "            ),\n",
    "            lambda: links_next\n",
    "        )\n",
    "\n",
    "        delta_hamiltonian = error_fn(links, p0, links_next, p_final)\n",
    "        p_acc = jnp.minimum(1, jnp.exp(-delta_hamiltonian))\n",
    "        \n",
    "        return jax.lax.cond(\n",
    "            skip_metropolis,\n",
    "            lambda: links_next,\n",
    "            lambda: jax.lax.cond(\n",
    "                jax.random.uniform(key2) < p_acc,\n",
    "                lambda: links_next,\n",
    "                lambda: links\n",
    "            )\n",
    "        ), (delta_hamiltonian, p_acc)\n",
    "    \n",
    "    return jax.jit(step_fn)"
   ]
  },
  {
   "cell_type": "code",
   "execution_count": 3,
   "metadata": {},
   "outputs": [],
   "source": [
    "make_stepper_fn = partial(\n",
    "    HMC,\n",
    "    action_fn=partial(luscher_weisz_action, beta=8.00, u0=0.8876875888655319),\n",
    "    error_fn=partial(luscher_weisz_gauge_error, beta=8.00, u0=0.8876875888655319),\n",
    "    # integrator=int_4MN4FP,\n",
    "    tau_md=1.0,\n",
    "    # steps_md=25,\n",
    "    unitary_violation_tol=5e-6\n",
    ")"
   ]
  },
  {
   "cell_type": "code",
   "execution_count": 4,
   "metadata": {},
   "outputs": [],
   "source": [
    "import time\n",
    "\n",
    "def test_stepper(stepper, initial_links, random_key, n_trajectories=30):\n",
    "    # warmup\n",
    "    stepper(initial_links, random_key)\n",
    "\n",
    "    times = []\n",
    "    errors = []\n",
    "\n",
    "    next_links = initial_links\n",
    "    for i in tqdm(range(n_trajectories)):\n",
    "        random_key, _k = jax.random.split(random_key)\n",
    "\n",
    "        start_time = time.time()\n",
    "        next_links, (err, _) = stepper(next_links, _k)\n",
    "        end_time = time.time()\n",
    "        \n",
    "        times.append(end_time - start_time)\n",
    "        errors.append(err.item())\n",
    "    \n",
    "    return times, errors"
   ]
  },
  {
   "cell_type": "code",
   "execution_count": 5,
   "metadata": {},
   "outputs": [],
   "source": [
    "random_key, _k = jax.random.split(jax.random.key(0), num=2)\n",
    "\n",
    "# L = (8, 8, 8, 8)\n",
    "# gauge_links = fast_expi_su3(jax.random.normal(\n",
    "#     _k,\n",
    "#     shape=(*L, 4, 8),\n",
    "#     dtype=jnp.float32\n",
    "# ))\n",
    "\n",
    "gauge_links = jnp.load(\"../results/configs_3-25-25_2/configs_3-25-25_2.npz\")[\"arr_500\"]"
   ]
  },
  {
   "cell_type": "code",
   "execution_count": 6,
   "metadata": {},
   "outputs": [
    {
     "name": "stderr",
     "output_type": "stream",
     "text": [
      "100%|██████████| 30/30 [00:34<00:00,  1.14s/it]\n",
      "100%|██████████| 30/30 [00:53<00:00,  1.79s/it]\n",
      "100%|██████████| 30/30 [01:22<00:00,  2.75s/it]\n",
      "100%|██████████| 30/30 [01:43<00:00,  3.44s/it]\n",
      "100%|██████████| 30/30 [01:05<00:00,  2.17s/it]\n",
      "100%|██████████| 30/30 [01:52<00:00,  3.76s/it]\n",
      "100%|██████████| 30/30 [02:53<00:00,  5.79s/it]\n",
      "100%|██████████| 30/30 [03:24<00:00,  6.81s/it]\n",
      "100%|██████████| 30/30 [01:32<00:00,  3.08s/it]\n",
      "100%|██████████| 30/30 [02:30<00:00,  5.01s/it]\n",
      "100%|██████████| 30/30 [03:56<00:00,  7.90s/it]\n",
      "100%|██████████| 30/30 [05:23<00:00, 10.77s/it]\n"
     ]
    }
   ],
   "source": [
    "integrators = {\n",
    "    \"2MN\": int_2MN,\n",
    "    \"4MN4FP\": int_4MN4FP,\n",
    "    \"4MN5FV\": int_4MN5FV\n",
    "}\n",
    "step_numbers = [3, 5, 8, 10]\n",
    "\n",
    "results = dict()\n",
    "for int_name, integrator in integrators.items():\n",
    "    results[int_name] = dict()\n",
    "\n",
    "    for steps_md in step_numbers:\n",
    "        stepper = make_stepper_fn(integrator=integrator, steps_md=steps_md)\n",
    "\n",
    "        times, errors = test_stepper(stepper, gauge_links, random_key, n_trajectories=30)\n",
    "\n",
    "        results[int_name][steps_md] = {\n",
    "            \"times\": times,\n",
    "            \"errors\": errors\n",
    "        }"
   ]
  },
  {
   "cell_type": "code",
   "execution_count": 7,
   "metadata": {},
   "outputs": [],
   "source": [
    "results_df = pd.concat([\n",
    "    pd.concat([pd.DataFrame.from_dict(int_step_data),\n",
    "               pd.DataFrame({\"integrator\": [int_name]*30, \"steps_md\": [steps_md]*30})], axis=1)\n",
    "    for int_name, int_data in results.items() for steps_md, int_step_data in int_data.items()\n",
    "], axis=0)\n",
    "results_df[\"p_acc\"] = results_df[\"errors\"].apply(lambda err: 1 if err < 0 else np.exp(-err))\n",
    "results_df[\"abs_err\"] = results_df[\"errors\"].apply(np.abs)"
   ]
  },
  {
   "cell_type": "code",
   "execution_count": null,
   "metadata": {},
   "outputs": [
    {
     "data": {
      "image/png": "[encoded data removed]",
      "text/plain": [
       "<Figure size 640x480 with 1 Axes>"
      ]
     },
     "metadata": {},
     "output_type": "display_data"
    }
   ],
   "source": [
    "for int_name, int_data in results_df.groupby(by=\"integrator\"):\n",
    "\n",
    "    if int_name == \"2LF\":\n",
    "        continue\n",
    "\n",
    "    mean_times = []\n",
    "    mean_errs = []\n",
    "    mean_probs = []\n",
    "\n",
    "    for steps_md, int_step_data in int_data.groupby(by=\"steps_md\"):\n",
    "\n",
    "        mean_times.append(int_step_data[\"times\"].median())\n",
    "        mean_errs.append(\n",
    "            np.sqrt(np.square(int_step_data[\"errors\"]).mean())\n",
    "        )\n",
    "        mean_probs.append(int_step_data[\"p_acc\"].mean())\n",
    "    \n",
    "    plt.scatter(mean_times, mean_errs, label=int_name, marker=\"x\")\n",
    "\n",
    "plt.xlabel(\"median trajectory time (s)\")\n",
    "plt.ylabel(\"log RMSE integration\")\n",
    "plt.legend()\n",
    "plt.grid()\n",
    "plt.gca().set_yscale(\"log\")\n",
    "plt.show()"
   ]
  }
 ],
 "metadata": {
  "kernelspec": {
   "display_name": "lattice-qcd",
   "language": "python",
   "name": "python3"
  },
  "language_info": {
   "codemirror_mode": {
    "name": "ipython",
    "version": 3
   },
   "file_extension": ".py",
   "mimetype": "text/x-python",
   "name": "python",
   "nbconvert_exporter": "python",
   "pygments_lexer": "ipython3",
   "version": "3.13.2"
  }
 },
 "nbformat": 4,
 "nbformat_minor": 2
}
