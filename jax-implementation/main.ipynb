{
 "cells": [
  {
   "cell_type": "code",
   "execution_count": 1,
   "metadata": {},
   "outputs": [],
   "source": [
    "from functools import partial\n",
    "import itertools\n",
    "import numpy as np\n",
    "from tqdm import tqdm\n",
    "\n",
    "import jax\n",
    "jax.config.update(\"jax_default_matmul_precision\", \"highest\")\n",
    "import jax.numpy as jnp\n",
    "from jax.scipy.linalg import expm\n",
    "from jax_tqdm import scan_tqdm\n",
    "\n",
    "from gauge_field_utils import coef_to_lie_group, wilson_action, mean_wilson_rectangle\n",
    "from integrators import int_LF2, int_MN2_omelyan, int_MN4_takaishi_forcrand\n",
    "\n",
    "%matplotlib inline\n",
    "import matplotlib.pyplot as plt"
   ]
  },
  {
   "cell_type": "code",
   "execution_count": 2,
   "metadata": {},
   "outputs": [],
   "source": [
    "# avoids big numbers, therefore reduces floating point errors\n",
    "def accurate_wilson_hamiltonian_error(q0, p0, q1, p1, beta):\n",
    "\n",
    "    field0 = coef_to_lie_group(q0)\n",
    "    field1 = coef_to_lie_group(q1)\n",
    "\n",
    "    def plaquette(field, mu, nu):\n",
    "        U_mu = field[..., mu, :, :]\n",
    "        U_nu = field[..., nu, :, :]\n",
    "\n",
    "        U_mu_shifted = jnp.roll(U_mu, shift=-1, axis=nu)\n",
    "        U_nu_shifted = jnp.roll(U_nu, shift=-1, axis=mu)\n",
    "\n",
    "        Re_Tr_Plaquettes = jnp.einsum(\"...AB,...BC,...CD,...DA->...\",\n",
    "                                    U_mu, U_nu_shifted,\n",
    "                                    U_mu_shifted.conj().mT,\n",
    "                                    U_nu.conj().mT).real\n",
    "\n",
    "        return Re_Tr_Plaquettes\n",
    "    \n",
    "    def plaquette_diff(mu, nu):\n",
    "        return (plaquette(field0, mu, nu) - plaquette(field1, mu, nu)) / 3\n",
    "    \n",
    "    local_hamiltonian_energy_diff = beta * sum(plaquette_diff(mu, nu) for mu in range(4) for nu in range(mu+1, 4)) + jnp.sum((p1 - p0) * ((p1 + p0) / 2), axis=[-1, -2])\n",
    "\n",
    "    return jnp.sum(local_hamiltonian_energy_diff)\n",
    "\n",
    "def HMC(beta, afn, nfev_approx):\n",
    "    action_fn = lambda x: afn(coef_to_lie_group(x), beta)\n",
    "    action_grad_fn = jax.grad(action_fn)\n",
    "    \n",
    "    def step_fn(coef, tau, random_key):\n",
    "        key1, key2 = jax.random.split(random_key, num=2)\n",
    "        p0 = jax.random.normal(key1, shape=coef.shape, dtype=coef.dtype)\n",
    "\n",
    "        coef_prop, pt = int_MN2_omelyan(coef, p0, action_grad_fn, tau, nfev_approx)\n",
    "        dH = accurate_wilson_hamiltonian_error(coef, p0, coef_prop, pt, beta)\n",
    "\n",
    "        p_acc = jnp.minimum(1, jnp.exp(-dH))\n",
    "\n",
    "        coef_next = jax.lax.cond(\n",
    "            jax.random.uniform(key2) < p_acc,\n",
    "            lambda: coef_prop,\n",
    "            lambda: coef\n",
    "        )\n",
    "\n",
    "        return coef_next, (dH, p_acc)\n",
    "\n",
    "    return step_fn\n",
    "\n",
    "def warmup_tint(coef, beta, random_key, observable_fn, tau, iters=2000, nfev_approx=20):\n",
    "    stepper_fn = jax.jit(HMC(beta, wilson_action, nfev_approx))\n",
    "    \n",
    "    @scan_tqdm(iters, print_rate=1, tqdm_type=\"notebook\")\n",
    "    def warmup_step(carry, step):\n",
    "        coef, rng_key = carry\n",
    "        rng_key, k1 = jax.random.split(rng_key)\n",
    "        \n",
    "        coef, (dH, p_acc) = stepper_fn(coef, tau, k1)\n",
    "        o = observable_fn(coef)\n",
    "        jax.debug.print(\"warmup step {step} ; o={o} ; dH={dH} ; p_acc={p_acc}\", step=step, o=o, dH=dH, p_acc=p_acc)\n",
    "\n",
    "        carry = (coef, rng_key)\n",
    "        return carry, o\n",
    "\n",
    "    (coef, random_key), O = jax.lax.scan(\n",
    "        warmup_step,\n",
    "        init=(coef, random_key),\n",
    "        xs=np.arange(iters),\n",
    "        length=iters\n",
    "    )\n",
    "\n",
    "    return coef, O\n",
    "\n",
    "@partial(jax.jit, static_argnames=[\"R_range\", \"T_range\"])\n",
    "def calculate_wilson_loops(gauge_coef, R_range, T_range):\n",
    "    R_min, R_max = R_range\n",
    "    T_min, T_max = T_range\n",
    "    wilson_loop_values = jnp.array([mean_wilson_rectangle(coef_to_lie_group(gauge_coef), R, T, time_unique=False) for R, T in itertools.product(range(R_min, R_max+1), range(T_min, T_max+1))]).reshape(R_max-R_min+1, T_max-T_min+1)\n",
    "    return wilson_loop_values"
   ]
  },
  {
   "cell_type": "code",
   "execution_count": 3,
   "metadata": {},
   "outputs": [],
   "source": [
    "L = (16, 8, 8, 8)\n",
    "R_range = (1, 8)\n",
    "T_range = (1, 16)\n",
    "\n",
    "random_key, key1, key2 = jax.random.split(jax.random.key(0), num=3)\n",
    "coef = jax.random.normal(key1, shape=(*L, 4, 8), dtype=jnp.float32)"
   ]
  },
  {
   "cell_type": "code",
   "execution_count": null,
   "metadata": {},
   "outputs": [
    {
     "name": "stderr",
     "output_type": "stream",
     "text": [
      "2025-03-07 19:45:29.220839: W external/xla/xla/hlo/transforms/host_offloader.cc:372] Token parameters are not supported for streaming.\n"
     ]
    },
    {
     "data": {
      "application/vnd.jupyter.widget-view+json": {
       "model_id": "6b10d4f15ab443989f97e38f71d3a58d",
       "version_major": 2,
       "version_minor": 0
      },
      "text/plain": [
       "Running for 2,000 iterations:   0%|          | 0/2000 [00:00<?, ?it/s]"
      ]
     },
     "metadata": {},
     "output_type": "display_data"
    },
    {
     "name": "stdout",
     "output_type": "stream",
     "text": [
      "warmup step 0 ; o=0.12826785445213318 ; dH=0.22209739685058594 ; p_acc=0.8008373975753784\n",
      "warmup step 1 ; o=0.14446763694286346 ; dH=0.2663135528564453 ; p_acc=0.7661988735198975\n",
      "warmup step 2 ; o=0.15274927020072937 ; dH=0.069366455078125 ; p_acc=0.9329847097396851\n",
      "warmup step 3 ; o=0.1602262705564499 ; dH=0.03884315490722656 ; p_acc=0.9619016051292419\n",
      "warmup step 4 ; o=0.15743069350719452 ; dH=0.05648994445800781 ; p_acc=0.9450759887695312\n",
      "warmup step 5 ; o=0.16520753502845764 ; dH=-0.02074432373046875 ; p_acc=1.0\n",
      "warmup step 6 ; o=0.15943512320518494 ; dH=0.055316925048828125 ; p_acc=0.9461852312088013\n",
      "warmup step 7 ; o=0.16032937169075012 ; dH=0.019195556640625 ; p_acc=0.9809874892234802\n",
      "warmup step 8 ; o=0.15355317294597626 ; dH=0.02353668212890625 ; p_acc=0.9767381548881531\n",
      "warmup step 9 ; o=0.1528140902519226 ; dH=0.015985488891601562 ; p_acc=0.9841415882110596\n",
      "warmup step 10 ; o=0.16133961081504822 ; dH=-0.0136566162109375 ; p_acc=1.0\n",
      "warmup step 11 ; o=0.16250234842300415 ; dH=0.022385597229003906 ; p_acc=0.9778631329536438\n",
      "warmup step 12 ; o=0.16046272218227386 ; dH=0.012287139892578125 ; p_acc=0.9877880215644836\n",
      "warmup step 13 ; o=0.16476981341838837 ; dH=-0.009569168090820312 ; p_acc=1.0\n",
      "warmup step 14 ; o=0.16936922073364258 ; dH=-0.016880035400390625 ; p_acc=1.0\n",
      "warmup step 15 ; o=0.17484061419963837 ; dH=-0.02143096923828125 ; p_acc=1.0\n",
      "warmup step 16 ; o=0.1800990104675293 ; dH=-0.017904281616210938 ; p_acc=1.0\n",
      "warmup step 17 ; o=0.18337559700012207 ; dH=-0.03260993957519531 ; p_acc=1.0\n",
      "warmup step 18 ; o=0.18968847393989563 ; dH=-0.039035797119140625 ; p_acc=1.0\n",
      "warmup step 19 ; o=0.1827739179134369 ; dH=0.009756088256835938 ; p_acc=0.9902913570404053\n",
      "warmup step 20 ; o=0.18984916806221008 ; dH=-0.03905439376831055 ; p_acc=1.0\n",
      "warmup step 21 ; o=0.19338658452033997 ; dH=-0.0398406982421875 ; p_acc=1.0\n",
      "warmup step 22 ; o=0.1913926601409912 ; dH=0.0029611587524414062 ; p_acc=0.9970431923866272\n",
      "warmup step 23 ; o=0.18558165431022644 ; dH=-0.015529632568359375 ; p_acc=1.0\n",
      "warmup step 24 ; o=0.17729586362838745 ; dH=0.040187835693359375 ; p_acc=0.960608959197998\n",
      "warmup step 25 ; o=0.18027007579803467 ; dH=-0.02277851104736328 ; p_acc=1.0\n",
      "warmup step 26 ; o=0.17740631103515625 ; dH=0.010976791381835938 ; p_acc=0.9890832304954529\n",
      "warmup step 27 ; o=0.17612436413764954 ; dH=-0.0059223175048828125 ; p_acc=1.0\n",
      "warmup step 28 ; o=0.172937273979187 ; dH=0.002063751220703125 ; p_acc=0.9979383945465088\n",
      "warmup step 29 ; o=0.17422524094581604 ; dH=-0.008749008178710938 ; p_acc=1.0\n",
      "warmup step 30 ; o=0.17352506518363953 ; dH=-0.0075817108154296875 ; p_acc=1.0\n",
      "warmup step 31 ; o=0.1738247275352478 ; dH=-0.007932662963867188 ; p_acc=1.0\n",
      "warmup step 32 ; o=0.1739644706249237 ; dH=0.0013875961303710938 ; p_acc=0.9986134171485901\n",
      "warmup step 33 ; o=0.1791352927684784 ; dH=-0.030759811401367188 ; p_acc=1.0\n",
      "warmup step 34 ; o=0.17625772953033447 ; dH=0.001003265380859375 ; p_acc=0.9989972710609436\n",
      "warmup step 35 ; o=0.1779283583164215 ; dH=0.003017425537109375 ; p_acc=0.9969871044158936\n",
      "warmup step 36 ; o=0.1790221929550171 ; dH=-0.0036649703979492188 ; p_acc=1.0\n",
      "warmup step 37 ; o=0.17231807112693787 ; dH=0.008719444274902344 ; p_acc=0.99131840467453\n",
      "warmup step 38 ; o=0.17389652132987976 ; dH=-0.016674041748046875 ; p_acc=1.0\n",
      "warmup step 39 ; o=0.17300695180892944 ; dH=0.006591796875 ; p_acc=0.9934298396110535\n",
      "warmup step 40 ; o=0.17000077664852142 ; dH=0.019145965576171875 ; p_acc=0.9810361266136169\n",
      "warmup step 41 ; o=0.1729988306760788 ; dH=-0.005908966064453125 ; p_acc=1.0\n",
      "warmup step 42 ; o=0.17944929003715515 ; dH=-0.03025054931640625 ; p_acc=1.0\n",
      "warmup step 43 ; o=0.17941385507583618 ; dH=0.010667800903320312 ; p_acc=0.9893889427185059\n",
      "warmup step 44 ; o=0.17946600914001465 ; dH=-0.004870414733886719 ; p_acc=1.0\n",
      "warmup step 45 ; o=0.17884349822998047 ; dH=-0.008565902709960938 ; p_acc=1.0\n",
      "warmup step 46 ; o=0.17890596389770508 ; dH=-0.011318206787109375 ; p_acc=1.0\n",
      "warmup step 47 ; o=0.1779693067073822 ; dH=-0.00772857666015625 ; p_acc=1.0\n",
      "warmup step 48 ; o=0.173507958650589 ; dH=0.00957489013671875 ; p_acc=0.9904707670211792\n"
     ]
    }
   ],
   "source": [
    "coef, tint, O = warmup_tint(\n",
    "    coef,\n",
    "    beta=1.0,\n",
    "    random_key=random_key,\n",
    "    observable_fn=jax.jit(lambda x: mean_wilson_rectangle(coef_to_lie_group(x), 1, 1, time_unique=False).real),\n",
    "    tau=1.0,\n",
    "    iters=2000,\n",
    "    nfev_approx=20\n",
    ")"
   ]
  },
  {
   "cell_type": "code",
   "execution_count": 14,
   "metadata": {},
   "outputs": [
    {
     "name": "stderr",
     "output_type": "stream",
     "text": []
    }
   ],
   "source": [
    "wilson_loops = []\n",
    "\n",
    "for i in tqdm(range(20000)):\n",
    "    random_key, key1 = jax.random.split(random_key)\n",
    "    coef = HMC_trajectory(coef, beta=6.7, steps=80, dt=3e-5, random_key=key1)[\"q_next\"]\n",
    "\n",
    "    # Calculate wilson loops\n",
    "    wilson_loops.append(calculate_wilson_loops(coef, R_range, T_range))"
   ]
  },
  {
   "cell_type": "code",
   "execution_count": 14,
   "metadata": {},
   "outputs": [],
   "source": [
    "wilson_loops = jnp.array(wilson_loops)\n",
    "mean_loops = jnp.real(wilson_loops[200:].mean(axis=0)).copy()\n",
    "omrt_loops = 1 - mean_loops/3"
   ]
  },
  {
   "cell_type": "code",
   "execution_count": 15,
   "metadata": {},
   "outputs": [
    {
     "data": {
      "image/png": "[encoded data removed]",
      "text/plain": [
       "<Figure size 640x480 with 1 Axes>"
      ]
     },
     "metadata": {},
     "output_type": "display_data"
    }
   ],
   "source": [
    "plt.plot(wilson_loops[:, 0, 0].real)\n",
    "plt.show()"
   ]
  },
  {
   "cell_type": "code",
   "execution_count": 51,
   "metadata": {},
   "outputs": [
    {
     "data": {
      "image/png": "[encoded data removed]",
      "text/plain": [
       "<Figure size 640x480 with 1 Axes>"
      ]
     },
     "metadata": {},
     "output_type": "display_data"
    }
   ],
   "source": [
    "i=7\n",
    "plt.plot(jnp.log(mean_loops[:,i]/mean_loops[:,i+1]))\n",
    "plt.show()"
   ]
  }
 ],
 "metadata": {
  "kernelspec": {
   "display_name": "lattice-qcd",
   "language": "python",
   "name": "python3"
  },
  "language_info": {
   "codemirror_mode": {
    "name": "ipython",
    "version": 3
   },
   "file_extension": ".py",
   "mimetype": "text/x-python",
   "name": "python",
   "nbconvert_exporter": "python",
   "pygments_lexer": "ipython3",
   "version": "3.11.11"
  }
 },
 "nbformat": 4,
 "nbformat_minor": 2
}
