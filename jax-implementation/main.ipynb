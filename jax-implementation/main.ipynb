{
 "cells": [
  {
   "cell_type": "code",
   "execution_count": 1,
   "metadata": {},
   "outputs": [],
   "source": [
    "import os\n",
    "# os.environ[\"JAX_ENABLE_X64\"] = \"1\"\n",
    "import itertools\n",
    "from functools import partial\n",
    "\n",
    "import numpy as np\n",
    "from tqdm import tqdm\n",
    "\n",
    "import jax\n",
    "jax.config.update(\"jax_default_matmul_precision\", \"highest\")\n",
    "import jax.numpy as jnp\n",
    "from jax_tqdm import scan_tqdm\n",
    "\n",
    "from gauge_field_utils import coef_to_lie_group, wilson_action, mean_wilson_rectangle, accurate_wilson_hamiltonian_error\n",
    "from integrators import int_LF2, int_MN2_omelyan, int_MN4_takaishi_forcrand\n",
    "\n",
    "%matplotlib inline\n",
    "import matplotlib.pyplot as plt"
   ]
  },
  {
   "cell_type": "code",
   "execution_count": 2,
   "metadata": {},
   "outputs": [],
   "source": [
    "def HMC(beta, afn, nfev_approx):\n",
    "    action_fn = lambda x: afn(coef_to_lie_group(x), beta)\n",
    "    action_grad_fn = jax.grad(action_fn)\n",
    "    \n",
    "    def step_fn(coef, tau, random_key):\n",
    "        key1, key2 = jax.random.split(random_key, num=2)\n",
    "        p0 = jax.random.normal(key1, shape=coef.shape, dtype=coef.dtype)\n",
    "\n",
    "        coef_prop, pt = int_MN4_takaishi_forcrand(coef, p0, action_grad_fn, tau, nfev_approx)\n",
    "        dH = accurate_wilson_hamiltonian_error(coef, p0, coef_prop, pt, beta)\n",
    "\n",
    "        p_acc = jnp.minimum(1, jnp.exp(-dH))\n",
    "\n",
    "        coef_next = jax.lax.cond(\n",
    "            jax.random.uniform(key2) < p_acc,\n",
    "            lambda: coef_prop,\n",
    "            lambda: coef\n",
    "        )\n",
    "\n",
    "        return coef_next, (dH, p_acc)\n",
    "\n",
    "    return step_fn\n",
    "\n",
    "def warmup_tint(coef, beta, random_key, observable_fn, tau, iters=2000, nfev_approx=20):\n",
    "    stepper_fn = jax.jit(HMC(beta, wilson_action, nfev_approx))\n",
    "    \n",
    "    @scan_tqdm(iters, print_rate=1, tqdm_type=\"notebook\")\n",
    "    def warmup_step(carry, step):\n",
    "        coef, rng_key, running_p_acc = carry\n",
    "        rng_key, k1 = jax.random.split(rng_key)\n",
    "        \n",
    "        coef, (dH, p_acc) = stepper_fn(coef, tau, k1)\n",
    "        running_p_acc = (running_p_acc * step + p_acc) / (step + 1)\n",
    "        o = observable_fn(coef)\n",
    "        jax.debug.print(\"warmup step {step} ; o={o} ; dH={dH} ; p_acc={p_acc}\", step=step, o=o, dH=dH, p_acc=running_p_acc)\n",
    "\n",
    "        carry = (coef, rng_key, running_p_acc)\n",
    "        return carry, o\n",
    "\n",
    "    (coef, *_), O = jax.lax.scan(\n",
    "        warmup_step,\n",
    "        init=(coef, random_key, 0),\n",
    "        xs=np.arange(iters),\n",
    "        length=iters\n",
    "    )\n",
    "\n",
    "    return coef, O\n",
    "\n",
    "@partial(jax.jit, static_argnames=[\"R_range\", \"T_range\"])\n",
    "def calculate_wilson_loops(gauge_coef, R_range, T_range):\n",
    "    R_min, R_max = R_range\n",
    "    T_min, T_max = T_range\n",
    "    wilson_loop_values = jnp.array([mean_wilson_rectangle(coef_to_lie_group(gauge_coef), R, T, time_unique=False) for R, T in itertools.product(range(R_min, R_max+1), range(T_min, T_max+1))]).reshape(R_max-R_min+1, T_max-T_min+1)\n",
    "    return wilson_loop_values"
   ]
  },
  {
   "cell_type": "code",
   "execution_count": 3,
   "metadata": {},
   "outputs": [],
   "source": [
    "# L = (40, 20, 20, 20)\n",
    "L = (32, 16, 16, 16)\n",
    "# R_range = (1, 15)\n",
    "# T_range = (1, 20)\n",
    "\n",
    "random_key, key1, key2 = jax.random.split(jax.random.key(0), num=3)\n",
    "coef = jax.random.normal(key1, shape=(*L, 4, 8), dtype=jnp.float32)\n",
    "# coef = jnp.load(\"warmed_16_8x3_beta_6p7.npy\")"
   ]
  },
  {
   "cell_type": "code",
   "execution_count": 4,
   "metadata": {},
   "outputs": [
    {
     "name": "stderr",
     "output_type": "stream",
     "text": [
      "2025-03-11 20:45:12.052367: W external/xla/xla/hlo/transforms/host_offloader.cc:372] Token parameters are not supported for streaming.\n"
     ]
    },
    {
     "name": "stdout",
     "output_type": "stream",
     "text": [
      "warmup step 0 ; o=0.0015569411916658282 ; dH=1.150970458984375 ; p_acc=0.31632962822914124\n"
     ]
    },
    {
     "data": {
      "application/vnd.jupyter.widget-view+json": {
       "model_id": "1c195b807bb64c218f4da36747a2f7f0",
       "version_major": 2,
       "version_minor": 0
      },
      "text/plain": [
       "Running for 1,000 iterations:   0%|          | 0/1000 [00:00<?, ?it/s]"
      ]
     },
     "metadata": {},
     "output_type": "display_data"
    },
    {
     "name": "stdout",
     "output_type": "stream",
     "text": [
      "warmup step 1 ; o=0.0015569411916658282 ; dH=1.157073974609375 ; p_acc=0.3153672218322754\n",
      "warmup step 2 ; o=0.0015569411916658282 ; dH=1.153961181640625 ; p_acc=0.31537315249443054\n",
      "warmup step 3 ; o=0.0015569411916658282 ; dH=1.13885498046875 ; p_acc=0.316576212644577\n",
      "warmup step 4 ; o=0.0015569411916658282 ; dH=1.1285400390625 ; p_acc=0.31796202063560486\n",
      "warmup step 5 ; o=-0.0006765563739463687 ; dH=1.1583251953125 ; p_acc=0.3173036575317383\n",
      "warmup step 6 ; o=-0.0002230208774562925 ; dH=-0.203460693359375 ; p_acc=0.4148317277431488\n",
      "warmup step 7 ; o=0.0009784077992662787 ; dH=0.11175537109375 ; p_acc=0.47476065158843994\n",
      "warmup step 8 ; o=0.0009784077992662787 ; dH=0.41796875 ; p_acc=0.49516311287879944\n",
      "warmup step 9 ; o=0.0009784077992662787 ; dH=0.43609619140625 ; p_acc=0.5103023648262024\n",
      "warmup step 10 ; o=0.0009784077992662787 ; dH=0.4583740234375 ; p_acc=0.5213940739631653\n",
      "warmup step 11 ; o=0.0006741005927324295 ; dH=0.48028564453125 ; p_acc=0.529495120048523\n",
      "warmup step 12 ; o=0.0006741005927324295 ; dH=0.41259765625 ; p_acc=0.5396823287010193\n",
      "warmup step 13 ; o=0.0012995463330298662 ; dH=0.504180908203125 ; p_acc=0.5442764759063721\n",
      "warmup step 14 ; o=0.0012995463330298662 ; dH=0.514007568359375 ; p_acc=0.5478643178939819\n",
      "warmup step 15 ; o=0.0016004203353077173 ; dH=0.393829345703125 ; p_acc=0.5557771325111389\n",
      "warmup step 16 ; o=0.0006436113035306334 ; dH=0.48046875 ; p_acc=0.5594663023948669\n",
      "warmup step 17 ; o=0.0006436113035306334 ; dH=0.4261474609375 ; p_acc=0.5646637082099915\n",
      "warmup step 18 ; o=0.0006436113035306334 ; dH=0.4306640625 ; p_acc=0.5691591501235962\n",
      "warmup step 19 ; o=0.0012693367898464203 ; dH=0.4502105712890625 ; p_acc=0.5725759267807007\n",
      "warmup step 20 ; o=0.0012693367898464203 ; dH=0.416229248046875 ; p_acc=0.5767165422439575\n",
      "warmup step 21 ; o=0.0023269285447895527 ; dH=0.466827392578125 ; p_acc=0.5790016651153564\n",
      "warmup step 22 ; o=0.001656866166740656 ; dH=0.37933349609375 ; p_acc=0.5835806727409363\n",
      "warmup step 23 ; o=0.0005963960429653525 ; dH=0.326568603515625 ; p_acc=0.5893229246139526\n",
      "warmup step 24 ; o=0.0024766819551587105 ; dH=0.314453125 ; p_acc=0.5949575304985046\n",
      "warmup step 25 ; o=0.0042793480679392815 ; dH=0.192626953125 ; p_acc=0.6037972569465637\n",
      "warmup step 26 ; o=0.0019151251763105392 ; dH=0.2365570068359375 ; p_acc=0.6106692552566528\n",
      "warmup step 27 ; o=0.002506248652935028 ; dH=0.22235107421875 ; p_acc=0.6174537539482117\n",
      "warmup step 28 ; o=0.004659406840801239 ; dH=0.21112060546875 ; p_acc=0.6240821480751038\n",
      "warmup step 29 ; o=0.0040524243377149105 ; dH=0.15850830078125 ; p_acc=0.6317266821861267\n",
      "warmup step 30 ; o=0.007630843669176102 ; dH=0.13006591796875 ; p_acc=0.6396722197532654\n",
      "warmup step 31 ; o=0.007630843669176102 ; dH=0.0583953857421875 ; p_acc=0.6491599082946777\n",
      "warmup step 32 ; o=0.008520691655576229 ; dH=0.120147705078125 ; p_acc=0.6563608050346375\n",
      "warmup step 33 ; o=0.014243858866393566 ; dH=0.014495849609375 ; p_acc=0.6660445928573608\n",
      "warmup step 34 ; o=0.020282885059714317 ; dH=-0.103607177734375 ; p_acc=0.6755861639976501\n",
      "warmup step 35 ; o=0.031384170055389404 ; dH=-0.128143310546875 ; p_acc=0.6845976710319519\n",
      "warmup step 36 ; o=0.04932219535112381 ; dH=-0.17413330078125 ; p_acc=0.6931220293045044\n",
      "warmup step 37 ; o=0.0786055475473404 ; dH=-0.27569580078125 ; p_acc=0.7011978030204773\n",
      "warmup step 38 ; o=0.11747626960277557 ; dH=-0.3204345703125 ; p_acc=0.7088594436645508\n",
      "warmup step 39 ; o=0.1687718629837036 ; dH=-0.5352783203125 ; p_acc=0.7161380052566528\n",
      "warmup step 40 ; o=0.23122744262218475 ; dH=-0.45245361328125 ; p_acc=0.7230614423751831\n",
      "warmup step 41 ; o=0.30534130334854126 ; dH=-0.39141845703125 ; p_acc=0.7296552062034607\n",
      "warmup step 42 ; o=0.38734936714172363 ; dH=-0.44561767578125 ; p_acc=0.7359423041343689\n",
      "warmup step 43 ; o=0.47454866766929626 ; dH=-0.5111083984375 ; p_acc=0.7419436573982239\n",
      "warmup step 44 ; o=0.5627894401550293 ; dH=-0.382476806640625 ; p_acc=0.7476782202720642\n",
      "warmup step 45 ; o=0.6548642516136169 ; dH=-0.38085174560546875 ; p_acc=0.7531634569168091\n",
      "warmup step 46 ; o=0.7428473234176636 ; dH=-0.30681610107421875 ; p_acc=0.7584152817726135\n",
      "warmup step 47 ; o=0.8292983770370483 ; dH=-0.3505859375 ; p_acc=0.7634483575820923\n",
      "warmup step 48 ; o=0.9043027758598328 ; dH=-0.208892822265625 ; p_acc=0.7682759761810303\n",
      "warmup step 49 ; o=0.9766661524772644 ; dH=-0.2161865234375 ; p_acc=0.7729104161262512\n",
      "warmup step 50 ; o=1.0404303073883057 ; dH=-0.147613525390625 ; p_acc=0.777363121509552\n",
      "warmup step 51 ; o=1.0995757579803467 ; dH=-0.1891021728515625 ; p_acc=0.7816446423530579\n",
      "warmup step 52 ; o=1.1557841300964355 ; dH=-0.162384033203125 ; p_acc=0.7857645750045776\n",
      "warmup step 53 ; o=1.2035343647003174 ; dH=-0.1441650390625 ; p_acc=0.7897319197654724\n",
      "warmup step 54 ; o=1.252205491065979 ; dH=-0.099761962890625 ; p_acc=0.793554961681366\n",
      "warmup step 55 ; o=1.2952842712402344 ; dH=-0.1173095703125 ; p_acc=0.7972415089607239\n",
      "warmup step 56 ; o=1.334444522857666 ; dH=-0.1504058837890625 ; p_acc=0.8007986545562744\n",
      "warmup step 57 ; o=1.3694862127304077 ; dH=-0.08074951171875 ; p_acc=0.8042331337928772\n",
      "warmup step 58 ; o=1.404910922050476 ; dH=-0.051849365234375 ; p_acc=0.8075512647628784\n",
      "warmup step 59 ; o=1.4339962005615234 ; dH=-0.052276611328125 ; p_acc=0.8107587695121765\n",
      "warmup step 60 ; o=1.4610155820846558 ; dH=-0.0417633056640625 ; p_acc=0.8138611316680908\n",
      "warmup step 61 ; o=1.4838953018188477 ; dH=-0.055328369140625 ; p_acc=0.8168633580207825\n",
      "warmup step 62 ; o=1.508365511894226 ; dH=-0.0416412353515625 ; p_acc=0.819770336151123\n",
      "warmup step 63 ; o=1.5299198627471924 ; dH=-0.06884765625 ; p_acc=0.8225864171981812\n",
      "warmup step 64 ; o=1.5495030879974365 ; dH=-0.002044677734375 ; p_acc=0.8253158330917358\n",
      "warmup step 65 ; o=1.5676530599594116 ; dH=-0.00490570068359375 ; p_acc=0.8279625773429871\n",
      "warmup step 66 ; o=1.5784499645233154 ; dH=-0.057342529296875 ; p_acc=0.8305303454399109\n",
      "warmup step 67 ; o=1.592092752456665 ; dH=-0.04168701171875 ; p_acc=0.8330225944519043\n",
      "warmup step 68 ; o=1.6017818450927734 ; dH=-0.03954315185546875 ; p_acc=0.8354426026344299\n",
      "warmup step 69 ; o=1.6075048446655273 ; dH=-0.0577239990234375 ; p_acc=0.8377934098243713\n",
      "warmup step 70 ; o=1.618295431137085 ; dH=-0.04852294921875 ; p_acc=0.8400779962539673\n",
      "warmup step 71 ; o=1.6274793148040771 ; dH=-0.033660888671875 ; p_acc=0.8422991633415222\n",
      "warmup step 72 ; o=1.6346464157104492 ; dH=0.0561981201171875 ; p_acc=0.8437107801437378\n",
      "warmup step 73 ; o=1.6404633522033691 ; dH=-0.018035888671875 ; p_acc=0.8458227515220642\n"
     ]
    },
    {
     "name": "stderr",
     "output_type": "stream",
     "text": [
      "E0311 21:11:30.896841   30560 pjrt_stream_executor_client.cc:3026] Execution of replica 0 failed: INTERNAL: CustomCall failed: CpuCallback error: Traceback (most recent call last):\n",
      "  File \"<frozen runpy>\", line 198, in _run_module_as_main\n",
      "  File \"<frozen runpy>\", line 88, in _run_code\n",
      "  File \"/home/nobe/miniconda3/envs/lattice-qcd/lib/python3.11/site-packages/ipykernel_launcher.py\", line 18, in <module>\n",
      "  File \"/home/nobe/miniconda3/envs/lattice-qcd/lib/python3.11/site-packages/traitlets/config/application.py\", line 1075, in launch_instance\n",
      "  File \"/home/nobe/miniconda3/envs/lattice-qcd/lib/python3.11/site-packages/ipykernel/kernelapp.py\", line 739, in start\n",
      "  File \"/home/nobe/miniconda3/envs/lattice-qcd/lib/python3.11/site-packages/tornado/platform/asyncio.py\", line 205, in start\n",
      "  File \"/home/nobe/miniconda3/envs/lattice-qcd/lib/python3.11/asyncio/base_events.py\", line 608, in run_forever\n",
      "  File \"/home/nobe/miniconda3/envs/lattice-qcd/lib/python3.11/asyncio/base_events.py\", line 1936, in _run_once\n",
      "  File \"/home/nobe/miniconda3/envs/lattice-qcd/lib/python3.11/asyncio/events.py\", line 84, in _run\n",
      "  File \"/home/nobe/miniconda3/envs/lattice-qcd/lib/python3.11/site-packages/ipykernel/kernelbase.py\", line 545, in dispatch_queue\n",
      "  File \"/home/nobe/miniconda3/envs/lattice-qcd/lib/python3.11/site-packages/ipykernel/kernelbase.py\", line 534, in process_one\n",
      "  File \"/home/nobe/miniconda3/envs/lattice-qcd/lib/python3.11/site-packages/ipykernel/kernelbase.py\", line 437, in dispatch_shell\n",
      "  File \"/home/nobe/miniconda3/envs/lattice-qcd/lib/python3.11/site-packages/ipykernel/ipkernel.py\", line 362, in execute_request\n",
      "  File \"/home/nobe/miniconda3/envs/lattice-qcd/lib/python3.11/site-packages/ipykernel/kernelbase.py\", line 778, in execute_request\n",
      "  File \"/home/nobe/miniconda3/envs/lattice-qcd/lib/python3.11/site-packages/ipykernel/ipkernel.py\", line 449, in do_execute\n",
      "  File \"/home/nobe/miniconda3/envs/lattice-qcd/lib/python3.11/site-packages/ipykernel/zmqshell.py\", line 549, in run_cell\n",
      "  File \"/home/nobe/miniconda3/envs/lattice-qcd/lib/python3.11/site-packages/IPython/core/interactiveshell.py\", line 3044, in run_cell\n",
      "  File \"/home/nobe/miniconda3/envs/lattice-qcd/lib/python3.11/site-packages/IPython/core/interactiveshell.py\", line 3099, in _run_cell\n",
      "  File \"/home/nobe/miniconda3/envs/lattice-qcd/lib/python3.11/site-packages/IPython/core/async_helpers.py\", line 128, in _pseudo_sync_runner\n",
      "  File \"/home/nobe/miniconda3/envs/lattice-qcd/lib/python3.11/site-packages/IPython/core/interactiveshell.py\", line 3303, in run_cell_async\n",
      "  File \"/home/nobe/miniconda3/envs/lattice-qcd/lib/python3.11/site-packages/IPython/core/interactiveshell.py\", line 3486, in run_ast_nodes\n",
      "  File \"/home/nobe/miniconda3/envs/lattice-qcd/lib/python3.11/site-packages/IPython/core/interactiveshell.py\", line 3546, in run_code\n",
      "  File \"/tmp/ipykernel_30560/1116471619.py\", line 1, in <module>\n",
      "  File \"/tmp/ipykernel_30560/763720248.py\", line 40, in warmup_tint\n",
      "  File \"/home/nobe/miniconda3/envs/lattice-qcd/lib/python3.11/site-packages/jax/_src/traceback_util.py\", line 180, in reraise_with_filtered_traceback\n",
      "  File \"/home/nobe/miniconda3/envs/lattice-qcd/lib/python3.11/site-packages/jax/_src/lax/control_flow/loops.py\", line 331, in scan\n",
      "  File \"/home/nobe/miniconda3/envs/lattice-qcd/lib/python3.11/site-packages/jax/_src/core.py\", line 502, in bind\n",
      "  File \"/home/nobe/miniconda3/envs/lattice-qcd/lib/python3.11/site-packages/jax/_src/core.py\", line 520, in _true_bind\n",
      "  File \"/home/nobe/miniconda3/envs/lattice-qcd/lib/python3.11/site-packages/jax/_src/core.py\", line 525, in bind_with_trace\n",
      "  File \"/home/nobe/miniconda3/envs/lattice-qcd/lib/python3.11/site-packages/jax/_src/core.py\", line 1024, in process_primitive\n",
      "  File \"/home/nobe/miniconda3/envs/lattice-qcd/lib/python3.11/site-packages/jax/_src/dispatch.py\", line 90, in apply_primitive\n",
      "  File \"/home/nobe/miniconda3/envs/lattice-qcd/lib/python3.11/site-packages/jax/_src/traceback_util.py\", line 180, in reraise_with_filtered_traceback\n",
      "  File \"/home/nobe/miniconda3/envs/lattice-qcd/lib/python3.11/site-packages/jax/_src/pjit.py\", line 341, in cache_miss\n",
      "  File \"/home/nobe/miniconda3/envs/lattice-qcd/lib/python3.11/site-packages/jax/_src/pjit.py\", line 195, in _python_pjit_helper\n",
      "  File \"/home/nobe/miniconda3/envs/lattice-qcd/lib/python3.11/site-packages/jax/_src/pjit.py\", line 1679, in _pjit_call_impl_python\n",
      "  File \"/home/nobe/miniconda3/envs/lattice-qcd/lib/python3.11/site-packages/jax/_src/profiler.py\", line 334, in wrapper\n",
      "  File \"/home/nobe/miniconda3/envs/lattice-qcd/lib/python3.11/site-packages/jax/_src/interpreters/pxla.py\", line 1287, in __call__\n",
      "  File \"/home/nobe/miniconda3/envs/lattice-qcd/lib/python3.11/site-packages/jax/_src/callback.py\", line 777, in _wrapped_callback\n",
      "KeyboardInterrupt: \n"
     ]
    },
    {
     "ename": "XlaRuntimeError",
     "evalue": "INTERNAL: CustomCall failed: CpuCallback error: Traceback (most recent call last):\n  File \"<frozen runpy>\", line 198, in _run_module_as_main\n  File \"<frozen runpy>\", line 88, in _run_code\n  File \"/home/nobe/miniconda3/envs/lattice-qcd/lib/python3.11/site-packages/ipykernel_launcher.py\", line 18, in <module>\n  File \"/home/nobe/miniconda3/envs/lattice-qcd/lib/python3.11/site-packages/traitlets/config/application.py\", line 1075, in launch_instance\n  File \"/home/nobe/miniconda3/envs/lattice-qcd/lib/python3.11/site-packages/ipykernel/kernelapp.py\", line 739, in start\n  File \"/home/nobe/miniconda3/envs/lattice-qcd/lib/python3.11/site-packages/tornado/platform/asyncio.py\", line 205, in start\n  File \"/home/nobe/miniconda3/envs/lattice-qcd/lib/python3.11/asyncio/base_events.py\", line 608, in run_forever\n  File \"/home/nobe/miniconda3/envs/lattice-qcd/lib/python3.11/asyncio/base_events.py\", line 1936, in _run_once\n  File \"/home/nobe/miniconda3/envs/lattice-qcd/lib/python3.11/asyncio/events.py\", line 84, in _run\n  File \"/home/nobe/miniconda3/envs/lattice-qcd/lib/python3.11/site-packages/ipykernel/kernelbase.py\", line 545, in dispatch_queue\n  File \"/home/nobe/miniconda3/envs/lattice-qcd/lib/python3.11/site-packages/ipykernel/kernelbase.py\", line 534, in process_one\n  File \"/home/nobe/miniconda3/envs/lattice-qcd/lib/python3.11/site-packages/ipykernel/kernelbase.py\", line 437, in dispatch_shell\n  File \"/home/nobe/miniconda3/envs/lattice-qcd/lib/python3.11/site-packages/ipykernel/ipkernel.py\", line 362, in execute_request\n  File \"/home/nobe/miniconda3/envs/lattice-qcd/lib/python3.11/site-packages/ipykernel/kernelbase.py\", line 778, in execute_request\n  File \"/home/nobe/miniconda3/envs/lattice-qcd/lib/python3.11/site-packages/ipykernel/ipkernel.py\", line 449, in do_execute\n  File \"/home/nobe/miniconda3/envs/lattice-qcd/lib/python3.11/site-packages/ipykernel/zmqshell.py\", line 549, in run_cell\n  File \"/home/nobe/miniconda3/envs/lattice-qcd/lib/python3.11/site-packages/IPython/core/interactiveshell.py\", line 3044, in run_cell\n  File \"/home/nobe/miniconda3/envs/lattice-qcd/lib/python3.11/site-packages/IPython/core/interactiveshell.py\", line 3099, in _run_cell\n  File \"/home/nobe/miniconda3/envs/lattice-qcd/lib/python3.11/site-packages/IPython/core/async_helpers.py\", line 128, in _pseudo_sync_runner\n  File \"/home/nobe/miniconda3/envs/lattice-qcd/lib/python3.11/site-packages/IPython/core/interactiveshell.py\", line 3303, in run_cell_async\n  File \"/home/nobe/miniconda3/envs/lattice-qcd/lib/python3.11/site-packages/IPython/core/interactiveshell.py\", line 3486, in run_ast_nodes\n  File \"/home/nobe/miniconda3/envs/lattice-qcd/lib/python3.11/site-packages/IPython/core/interactiveshell.py\", line 3546, in run_code\n  File \"/tmp/ipykernel_30560/1116471619.py\", line 1, in <module>\n  File \"/tmp/ipykernel_30560/763720248.py\", line 40, in warmup_tint\n  File \"/home/nobe/miniconda3/envs/lattice-qcd/lib/python3.11/site-packages/jax/_src/traceback_util.py\", line 180, in reraise_with_filtered_traceback\n  File \"/home/nobe/miniconda3/envs/lattice-qcd/lib/python3.11/site-packages/jax/_src/lax/control_flow/loops.py\", line 331, in scan\n  File \"/home/nobe/miniconda3/envs/lattice-qcd/lib/python3.11/site-packages/jax/_src/core.py\", line 502, in bind\n  File \"/home/nobe/miniconda3/envs/lattice-qcd/lib/python3.11/site-packages/jax/_src/core.py\", line 520, in _true_bind\n  File \"/home/nobe/miniconda3/envs/lattice-qcd/lib/python3.11/site-packages/jax/_src/core.py\", line 525, in bind_with_trace\n  File \"/home/nobe/miniconda3/envs/lattice-qcd/lib/python3.11/site-packages/jax/_src/core.py\", line 1024, in process_primitive\n  File \"/home/nobe/miniconda3/envs/lattice-qcd/lib/python3.11/site-packages/jax/_src/dispatch.py\", line 90, in apply_primitive\n  File \"/home/nobe/miniconda3/envs/lattice-qcd/lib/python3.11/site-packages/jax/_src/traceback_util.py\", line 180, in reraise_with_filtered_traceback\n  File \"/home/nobe/miniconda3/envs/lattice-qcd/lib/python3.11/site-packages/jax/_src/pjit.py\", line 341, in cache_miss\n  File \"/home/nobe/miniconda3/envs/lattice-qcd/lib/python3.11/site-packages/jax/_src/pjit.py\", line 195, in _python_pjit_helper\n  File \"/home/nobe/miniconda3/envs/lattice-qcd/lib/python3.11/site-packages/jax/_src/pjit.py\", line 1679, in _pjit_call_impl_python\n  File \"/home/nobe/miniconda3/envs/lattice-qcd/lib/python3.11/site-packages/jax/_src/profiler.py\", line 334, in wrapper\n  File \"/home/nobe/miniconda3/envs/lattice-qcd/lib/python3.11/site-packages/jax/_src/interpreters/pxla.py\", line 1287, in __call__\n  File \"/home/nobe/miniconda3/envs/lattice-qcd/lib/python3.11/site-packages/jax/_src/callback.py\", line 777, in _wrapped_callback\nKeyboardInterrupt: ",
     "output_type": "error",
     "traceback": [
      "\u001b[31m---------------------------------------------------------------------------\u001b[39m",
      "\u001b[31mXlaRuntimeError\u001b[39m                           Traceback (most recent call last)",
      "\u001b[36mCell\u001b[39m\u001b[36m \u001b[39m\u001b[32mIn[4]\u001b[39m\u001b[32m, line 1\u001b[39m\n\u001b[32m----> \u001b[39m\u001b[32m1\u001b[39m coef, O = \u001b[43mwarmup_tint\u001b[49m\u001b[43m(\u001b[49m\n\u001b[32m      2\u001b[39m \u001b[43m    \u001b[49m\u001b[43mcoef\u001b[49m\u001b[43m,\u001b[49m\n\u001b[32m      3\u001b[39m \u001b[43m    \u001b[49m\u001b[43mbeta\u001b[49m\u001b[43m=\u001b[49m\u001b[32;43m6.0\u001b[39;49m\u001b[43m,\u001b[49m\n\u001b[32m      4\u001b[39m \u001b[43m    \u001b[49m\u001b[43mrandom_key\u001b[49m\u001b[43m=\u001b[49m\u001b[43mrandom_key\u001b[49m\u001b[43m,\u001b[49m\n\u001b[32m      5\u001b[39m \u001b[43m    \u001b[49m\u001b[43mobservable_fn\u001b[49m\u001b[43m=\u001b[49m\u001b[43mjax\u001b[49m\u001b[43m.\u001b[49m\u001b[43mjit\u001b[49m\u001b[43m(\u001b[49m\u001b[38;5;28;43;01mlambda\u001b[39;49;00m\u001b[43m \u001b[49m\u001b[43mx\u001b[49m\u001b[43m:\u001b[49m\u001b[43m \u001b[49m\u001b[43mmean_wilson_rectangle\u001b[49m\u001b[43m(\u001b[49m\u001b[43mcoef_to_lie_group\u001b[49m\u001b[43m(\u001b[49m\u001b[43mx\u001b[49m\u001b[43m)\u001b[49m\u001b[43m,\u001b[49m\u001b[43m \u001b[49m\u001b[32;43m3\u001b[39;49m\u001b[43m,\u001b[49m\u001b[43m \u001b[49m\u001b[32;43m3\u001b[39;49m\u001b[43m,\u001b[49m\u001b[43m \u001b[49m\u001b[43mtime_unique\u001b[49m\u001b[43m=\u001b[49m\u001b[38;5;28;43;01mFalse\u001b[39;49;00m\u001b[43m)\u001b[49m\u001b[43m.\u001b[49m\u001b[43mreal\u001b[49m\u001b[43m)\u001b[49m\u001b[43m,\u001b[49m\n\u001b[32m      6\u001b[39m \u001b[43m    \u001b[49m\u001b[43mtau\u001b[49m\u001b[43m=\u001b[49m\u001b[32;43m2.0\u001b[39;49m\u001b[43m,\u001b[49m\n\u001b[32m      7\u001b[39m \u001b[43m    \u001b[49m\u001b[43miters\u001b[49m\u001b[43m=\u001b[49m\u001b[32;43m1000\u001b[39;49m\u001b[43m,\u001b[49m\n\u001b[32m      8\u001b[39m \u001b[43m    \u001b[49m\u001b[43mnfev_approx\u001b[49m\u001b[43m=\u001b[49m\u001b[32;43m40\u001b[39;49m\n\u001b[32m      9\u001b[39m \u001b[43m)\u001b[49m\n",
      "\u001b[36mCell\u001b[39m\u001b[36m \u001b[39m\u001b[32mIn[2]\u001b[39m\u001b[32m, line 40\u001b[39m, in \u001b[36mwarmup_tint\u001b[39m\u001b[34m(coef, beta, random_key, observable_fn, tau, iters, nfev_approx)\u001b[39m\n\u001b[32m     37\u001b[39m     carry = (coef, rng_key, running_p_acc)\n\u001b[32m     38\u001b[39m     \u001b[38;5;28;01mreturn\u001b[39;00m carry, o\n\u001b[32m---> \u001b[39m\u001b[32m40\u001b[39m (coef, *_), O = \u001b[43mjax\u001b[49m\u001b[43m.\u001b[49m\u001b[43mlax\u001b[49m\u001b[43m.\u001b[49m\u001b[43mscan\u001b[49m\u001b[43m(\u001b[49m\n\u001b[32m     41\u001b[39m \u001b[43m    \u001b[49m\u001b[43mwarmup_step\u001b[49m\u001b[43m,\u001b[49m\n\u001b[32m     42\u001b[39m \u001b[43m    \u001b[49m\u001b[43minit\u001b[49m\u001b[43m=\u001b[49m\u001b[43m(\u001b[49m\u001b[43mcoef\u001b[49m\u001b[43m,\u001b[49m\u001b[43m \u001b[49m\u001b[43mrandom_key\u001b[49m\u001b[43m,\u001b[49m\u001b[43m \u001b[49m\u001b[32;43m0\u001b[39;49m\u001b[43m)\u001b[49m\u001b[43m,\u001b[49m\n\u001b[32m     43\u001b[39m \u001b[43m    \u001b[49m\u001b[43mxs\u001b[49m\u001b[43m=\u001b[49m\u001b[43mnp\u001b[49m\u001b[43m.\u001b[49m\u001b[43marange\u001b[49m\u001b[43m(\u001b[49m\u001b[43miters\u001b[49m\u001b[43m)\u001b[49m\u001b[43m,\u001b[49m\n\u001b[32m     44\u001b[39m \u001b[43m    \u001b[49m\u001b[43mlength\u001b[49m\u001b[43m=\u001b[49m\u001b[43miters\u001b[49m\n\u001b[32m     45\u001b[39m \u001b[43m\u001b[49m\u001b[43m)\u001b[49m\n\u001b[32m     47\u001b[39m \u001b[38;5;28;01mreturn\u001b[39;00m coef, O\n",
      "    \u001b[31m[... skipping hidden 12 frame]\u001b[39m\n",
      "\u001b[36mFile \u001b[39m\u001b[32m~/miniconda3/envs/lattice-qcd/lib/python3.11/site-packages/jax/_src/interpreters/pxla.py:1287\u001b[39m, in \u001b[36mExecuteReplicated.__call__\u001b[39m\u001b[34m(self, *args)\u001b[39m\n\u001b[32m   1284\u001b[39m \u001b[38;5;28;01mif\u001b[39;00m (\u001b[38;5;28mself\u001b[39m.ordered_effects \u001b[38;5;129;01mor\u001b[39;00m \u001b[38;5;28mself\u001b[39m.has_unordered_effects\n\u001b[32m   1285\u001b[39m     \u001b[38;5;129;01mor\u001b[39;00m \u001b[38;5;28mself\u001b[39m.has_host_callbacks):\n\u001b[32m   1286\u001b[39m   input_bufs = \u001b[38;5;28mself\u001b[39m._add_tokens_to_inputs(input_bufs)\n\u001b[32m-> \u001b[39m\u001b[32m1287\u001b[39m   results = \u001b[38;5;28;43mself\u001b[39;49m\u001b[43m.\u001b[49m\u001b[43mxla_executable\u001b[49m\u001b[43m.\u001b[49m\u001b[43mexecute_sharded\u001b[49m\u001b[43m(\u001b[49m\n\u001b[32m   1288\u001b[39m \u001b[43m      \u001b[49m\u001b[43minput_bufs\u001b[49m\u001b[43m,\u001b[49m\u001b[43m \u001b[49m\u001b[43mwith_tokens\u001b[49m\u001b[43m=\u001b[49m\u001b[38;5;28;43;01mTrue\u001b[39;49;00m\n\u001b[32m   1289\u001b[39m \u001b[43m  \u001b[49m\u001b[43m)\u001b[49m\n\u001b[32m   1291\u001b[39m   result_token_bufs = results.disassemble_prefix_into_single_device_arrays(\n\u001b[32m   1292\u001b[39m       \u001b[38;5;28mlen\u001b[39m(\u001b[38;5;28mself\u001b[39m.ordered_effects))\n\u001b[32m   1293\u001b[39m   sharded_runtime_token = results.consume_token()\n",
      "\u001b[31mXlaRuntimeError\u001b[39m: INTERNAL: CustomCall failed: CpuCallback error: Traceback (most recent call last):\n  File \"<frozen runpy>\", line 198, in _run_module_as_main\n  File \"<frozen runpy>\", line 88, in _run_code\n  File \"/home/nobe/miniconda3/envs/lattice-qcd/lib/python3.11/site-packages/ipykernel_launcher.py\", line 18, in <module>\n  File \"/home/nobe/miniconda3/envs/lattice-qcd/lib/python3.11/site-packages/traitlets/config/application.py\", line 1075, in launch_instance\n  File \"/home/nobe/miniconda3/envs/lattice-qcd/lib/python3.11/site-packages/ipykernel/kernelapp.py\", line 739, in start\n  File \"/home/nobe/miniconda3/envs/lattice-qcd/lib/python3.11/site-packages/tornado/platform/asyncio.py\", line 205, in start\n  File \"/home/nobe/miniconda3/envs/lattice-qcd/lib/python3.11/asyncio/base_events.py\", line 608, in run_forever\n  File \"/home/nobe/miniconda3/envs/lattice-qcd/lib/python3.11/asyncio/base_events.py\", line 1936, in _run_once\n  File \"/home/nobe/miniconda3/envs/lattice-qcd/lib/python3.11/asyncio/events.py\", line 84, in _run\n  File \"/home/nobe/miniconda3/envs/lattice-qcd/lib/python3.11/site-packages/ipykernel/kernelbase.py\", line 545, in dispatch_queue\n  File \"/home/nobe/miniconda3/envs/lattice-qcd/lib/python3.11/site-packages/ipykernel/kernelbase.py\", line 534, in process_one\n  File \"/home/nobe/miniconda3/envs/lattice-qcd/lib/python3.11/site-packages/ipykernel/kernelbase.py\", line 437, in dispatch_shell\n  File \"/home/nobe/miniconda3/envs/lattice-qcd/lib/python3.11/site-packages/ipykernel/ipkernel.py\", line 362, in execute_request\n  File \"/home/nobe/miniconda3/envs/lattice-qcd/lib/python3.11/site-packages/ipykernel/kernelbase.py\", line 778, in execute_request\n  File \"/home/nobe/miniconda3/envs/lattice-qcd/lib/python3.11/site-packages/ipykernel/ipkernel.py\", line 449, in do_execute\n  File \"/home/nobe/miniconda3/envs/lattice-qcd/lib/python3.11/site-packages/ipykernel/zmqshell.py\", line 549, in run_cell\n  File \"/home/nobe/miniconda3/envs/lattice-qcd/lib/python3.11/site-packages/IPython/core/interactiveshell.py\", line 3044, in run_cell\n  File \"/home/nobe/miniconda3/envs/lattice-qcd/lib/python3.11/site-packages/IPython/core/interactiveshell.py\", line 3099, in _run_cell\n  File \"/home/nobe/miniconda3/envs/lattice-qcd/lib/python3.11/site-packages/IPython/core/async_helpers.py\", line 128, in _pseudo_sync_runner\n  File \"/home/nobe/miniconda3/envs/lattice-qcd/lib/python3.11/site-packages/IPython/core/interactiveshell.py\", line 3303, in run_cell_async\n  File \"/home/nobe/miniconda3/envs/lattice-qcd/lib/python3.11/site-packages/IPython/core/interactiveshell.py\", line 3486, in run_ast_nodes\n  File \"/home/nobe/miniconda3/envs/lattice-qcd/lib/python3.11/site-packages/IPython/core/interactiveshell.py\", line 3546, in run_code\n  File \"/tmp/ipykernel_30560/1116471619.py\", line 1, in <module>\n  File \"/tmp/ipykernel_30560/763720248.py\", line 40, in warmup_tint\n  File \"/home/nobe/miniconda3/envs/lattice-qcd/lib/python3.11/site-packages/jax/_src/traceback_util.py\", line 180, in reraise_with_filtered_traceback\n  File \"/home/nobe/miniconda3/envs/lattice-qcd/lib/python3.11/site-packages/jax/_src/lax/control_flow/loops.py\", line 331, in scan\n  File \"/home/nobe/miniconda3/envs/lattice-qcd/lib/python3.11/site-packages/jax/_src/core.py\", line 502, in bind\n  File \"/home/nobe/miniconda3/envs/lattice-qcd/lib/python3.11/site-packages/jax/_src/core.py\", line 520, in _true_bind\n  File \"/home/nobe/miniconda3/envs/lattice-qcd/lib/python3.11/site-packages/jax/_src/core.py\", line 525, in bind_with_trace\n  File \"/home/nobe/miniconda3/envs/lattice-qcd/lib/python3.11/site-packages/jax/_src/core.py\", line 1024, in process_primitive\n  File \"/home/nobe/miniconda3/envs/lattice-qcd/lib/python3.11/site-packages/jax/_src/dispatch.py\", line 90, in apply_primitive\n  File \"/home/nobe/miniconda3/envs/lattice-qcd/lib/python3.11/site-packages/jax/_src/traceback_util.py\", line 180, in reraise_with_filtered_traceback\n  File \"/home/nobe/miniconda3/envs/lattice-qcd/lib/python3.11/site-packages/jax/_src/pjit.py\", line 341, in cache_miss\n  File \"/home/nobe/miniconda3/envs/lattice-qcd/lib/python3.11/site-packages/jax/_src/pjit.py\", line 195, in _python_pjit_helper\n  File \"/home/nobe/miniconda3/envs/lattice-qcd/lib/python3.11/site-packages/jax/_src/pjit.py\", line 1679, in _pjit_call_impl_python\n  File \"/home/nobe/miniconda3/envs/lattice-qcd/lib/python3.11/site-packages/jax/_src/profiler.py\", line 334, in wrapper\n  File \"/home/nobe/miniconda3/envs/lattice-qcd/lib/python3.11/site-packages/jax/_src/interpreters/pxla.py\", line 1287, in __call__\n  File \"/home/nobe/miniconda3/envs/lattice-qcd/lib/python3.11/site-packages/jax/_src/callback.py\", line 777, in _wrapped_callback\nKeyboardInterrupt: "
     ]
    }
   ],
   "source": [
    "coef, O = warmup_tint(\n",
    "    coef,\n",
    "    beta=6.0,\n",
    "    random_key=random_key,\n",
    "    observable_fn=jax.jit(lambda x: mean_wilson_rectangle(coef_to_lie_group(x), 3, 3, time_unique=False).real),\n",
    "    tau=2.0,\n",
    "    iters=1000,\n",
    "    nfev_approx=40\n",
    ")"
   ]
  },
  {
   "cell_type": "code",
   "execution_count": 37,
   "metadata": {},
   "outputs": [
    {
     "name": "stderr",
     "output_type": "stream",
     "text": [
      "100%|██████████| 6000/6000 [11:34<00:00,  8.64it/s, dH=-0.017333984]  \n"
     ]
    }
   ],
   "source": [
    "wilson_loops = []\n",
    "\n",
    "stepper_fn = jax.jit(HMC(6.0, wilson_action, nfev_approx=25))\n",
    "\n",
    "for i in (bar := tqdm(range(6000))):\n",
    "    random_key, key1 = jax.random.split(random_key)\n",
    "    coef, (dH, p_acc) = stepper_fn(coef, tau=2.0, random_key=key1)\n",
    "\n",
    "    # Calculate wilson loops\n",
    "    wilson_loops.append(calculate_wilson_loops(coef, (1, 6), (1, 6)))\n",
    "\n",
    "    bar.set_postfix({\"dH\": dH})"
   ]
  },
  {
   "cell_type": "code",
   "execution_count": 38,
   "metadata": {},
   "outputs": [],
   "source": [
    "wilson_loops = jnp.array(wilson_loops)\n",
    "mean_loops = jnp.real(wilson_loops.mean(axis=0)).copy()\n",
    "omrt_loops = 1 - mean_loops/3"
   ]
  },
  {
   "cell_type": "code",
   "execution_count": 61,
   "metadata": {},
   "outputs": [
    {
     "data": {
      "image/png": "[encoded data removed]",
      "text/plain": [
       "<Figure size 640x480 with 1 Axes>"
      ]
     },
     "metadata": {},
     "output_type": "display_data"
    }
   ],
   "source": [
    "plt.plot(jnp.log(mean_loops[:-1,-5] / mean_loops[:-1,-4]))\n",
    "plt.show()"
   ]
  },
  {
   "cell_type": "code",
   "execution_count": 62,
   "metadata": {},
   "outputs": [],
   "source": [
    "sigma, V0, alpha = jnp.polyfit(\n",
    "    1+jnp.arange(4+1).astype(jnp.float32),\n",
    "    jnp.log(mean_loops[:-1,-5] / mean_loops[:-1,-4]) * (1+jnp.arange(4+1)),\n",
    "    deg=2\n",
    ")"
   ]
  },
  {
   "cell_type": "code",
   "execution_count": 64,
   "metadata": {},
   "outputs": [
    {
     "data": {
      "image/png": "[encoded data removed]",
      "text/plain": [
       "<Figure size 640x480 with 1 Axes>"
      ]
     },
     "metadata": {},
     "output_type": "display_data"
    }
   ],
   "source": [
    "x = 1+jnp.linspace(0, 5, 100)\n",
    "y = V0 + alpha / x + sigma * x\n",
    "\n",
    "plt.scatter(1+jnp.arange(4+1), jnp.log(mean_loops[:-1,-5] / mean_loops[:-1,-4]))\n",
    "plt.plot(x, y)\n",
    "plt.show()"
   ]
  },
  {
   "cell_type": "code",
   "execution_count": 65,
   "metadata": {},
   "outputs": [
    {
     "data": {
      "text/plain": [
       "Array(0.05178249, dtype=float32)"
      ]
     },
     "execution_count": 65,
     "metadata": {},
     "output_type": "execute_result"
    }
   ],
   "source": [
    "jnp.sqrt(sigma) / 440 * 1000 * 0.1973164956590371"
   ]
  },
  {
   "cell_type": "code",
   "execution_count": null,
   "metadata": {},
   "outputs": [],
   "source": []
  }
 ],
 "metadata": {
  "kernelspec": {
   "display_name": "lattice-qcd",
   "language": "python",
   "name": "python3"
  },
  "language_info": {
   "codemirror_mode": {
    "name": "ipython",
    "version": 3
   },
   "file_extension": ".py",
   "mimetype": "text/x-python",
   "name": "python",
   "nbconvert_exporter": "python",
   "pygments_lexer": "ipython3",
   "version": "3.11.11"
  }
 },
 "nbformat": 4,
 "nbformat_minor": 2
}
