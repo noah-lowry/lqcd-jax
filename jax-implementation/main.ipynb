{
 "cells": [
  {
   "cell_type": "code",
   "execution_count": 1,
   "metadata": {},
   "outputs": [],
   "source": [
    "import itertools\n",
    "from functools import partial\n",
    "\n",
    "import numpy as np\n",
    "from tqdm import tqdm\n",
    "\n",
    "import jax\n",
    "jax.config.update(\"jax_default_matmul_precision\", \"highest\")\n",
    "import jax.numpy as jnp\n",
    "from jax_tqdm import scan_tqdm\n",
    "\n",
    "from gauge_field_utils import coef_to_lie_group, wilson_action, mean_wilson_rectangle, accurate_wilson_hamiltonian_error, smear_HYP\n",
    "from integrators import int_LF2, int_MN2_omelyan, int_MN4_takaishi_forcrand\n",
    "\n",
    "%matplotlib inline\n",
    "import matplotlib.pyplot as plt"
   ]
  },
  {
   "cell_type": "code",
   "execution_count": 2,
   "metadata": {},
   "outputs": [],
   "source": [
    "def HMC(beta, afn, nfev_approx):\n",
    "    action_fn = lambda x: afn(coef_to_lie_group(x), beta)\n",
    "    action_grad_fn = jax.grad(action_fn)\n",
    "    \n",
    "    def step_fn(coef, tau, random_key, skip_metropolis=False):\n",
    "        key1, key2 = jax.random.split(random_key, num=2)\n",
    "        p0 = jax.random.normal(key1, shape=coef.shape, dtype=coef.dtype)\n",
    "\n",
    "        coef_prop, pt = int_MN4_takaishi_forcrand(coef, p0, action_grad_fn, tau, nfev_approx)\n",
    "        dH = accurate_wilson_hamiltonian_error(coef, p0, coef_prop, pt, beta)\n",
    "\n",
    "        p_acc = jnp.minimum(1, jnp.exp(-dH))\n",
    "        \n",
    "        return jax.lax.cond(\n",
    "            skip_metropolis,\n",
    "            lambda: (coef_prop, (dH, p_acc)),\n",
    "            lambda: jax.lax.cond(\n",
    "                jax.random.uniform(key2) < p_acc,\n",
    "                lambda: (coef_prop, (dH, p_acc)),\n",
    "                lambda: (coef, (dH, p_acc))\n",
    "            )\n",
    "        )\n",
    "\n",
    "    return step_fn\n",
    "\n",
    "def warmup_scan(coef, beta, random_key, observable_fn, tau, nfev_approx=20, total_iters=2000, warmup_iters=0):\n",
    "    stepper_fn = jax.jit(HMC(beta, wilson_action, nfev_approx))\n",
    "\n",
    "    @scan_tqdm(total_iters, print_rate=1, tqdm_type=\"notebook\")\n",
    "    def warmup_step(carry, step):\n",
    "        coef, rng_key, running_p_acc = carry\n",
    "        rng_key, k1 = jax.random.split(rng_key)\n",
    "        \n",
    "        coef, (dH, p_acc) = stepper_fn(coef, tau, k1, step < warmup_iters)\n",
    "        running_p_acc = (running_p_acc * step + p_acc) / (step + 1)\n",
    "        o = observable_fn(coef)\n",
    "        jax.debug.print(\"warmup step {step} ; o={o} ; dH={dH} ; p_acc={p_acc}\", step=step, o=o, dH=dH, p_acc=running_p_acc)\n",
    "\n",
    "        carry = (coef, rng_key, running_p_acc)\n",
    "        return carry, o\n",
    "\n",
    "    (coef, *_), O = jax.lax.scan(\n",
    "        warmup_step,\n",
    "        init=(coef, random_key, 0),\n",
    "        xs=np.arange(total_iters),\n",
    "        length=total_iters\n",
    "    )\n",
    "\n",
    "    return coef, O\n",
    "\n",
    "@partial(jax.jit, static_argnames=[\"R_range\", \"T_range\", \"smear\"])\n",
    "def calculate_wilson_loops(gauge_coef, R_range, T_range, smear=False):\n",
    "    R_min, R_max = R_range\n",
    "    T_min, T_max = T_range\n",
    "    field = jax.lax.cond(\n",
    "        smear,\n",
    "        smear_HYP,\n",
    "        lambda x: x,\n",
    "        coef_to_lie_group(gauge_coef)\n",
    "    )\n",
    "    wilson_loop_values = jnp.array([mean_wilson_rectangle(field, R, T, time_unique=False) for R, T in itertools.product(range(R_min, R_max+1), range(T_min, T_max+1))]).reshape(R_max-R_min+1, T_max-T_min+1)\n",
    "    return wilson_loop_values"
   ]
  },
  {
   "cell_type": "code",
   "execution_count": 3,
   "metadata": {},
   "outputs": [],
   "source": [
    "L = (48, 16, 16, 16)\n",
    "\n",
    "random_key, key1, key2 = jax.random.split(jax.random.key(0), num=3)\n",
    "coef = jax.random.normal(key1, shape=(*L, 4, 8), dtype=jnp.float32)"
   ]
  },
  {
   "cell_type": "code",
   "execution_count": 8,
   "metadata": {},
   "outputs": [
    {
     "name": "stderr",
     "output_type": "stream",
     "text": [
      "2025-03-19 05:08:29.662994: W external/xla/xla/hlo/transforms/host_offloader.cc:360] Token parameters are not supported for streaming.\n"
     ]
    },
    {
     "name": "stdout",
     "output_type": "stream",
     "text": [
      "warmup step 0 ; o=1.3806462287902832 ; dH=-0.04974365234375 ; p_acc=1.0\n"
     ]
    },
    {
     "data": {
      "application/vnd.jupyter.widget-view+json": {
       "model_id": "b6991c5cb40842a5b8c7ed2215f07ad4",
       "version_major": 2,
       "version_minor": 0
      },
      "text/plain": [
       "Running for 50 iterations:   0%|          | 0/50 [00:00<?, ?it/s]"
      ]
     },
     "metadata": {},
     "output_type": "display_data"
    },
    {
     "name": "stdout",
     "output_type": "stream",
     "text": [
      "warmup step 1 ; o=1.3838037252426147 ; dH=-0.256683349609375 ; p_acc=1.0\n",
      "warmup step 2 ; o=1.3835757970809937 ; dH=0.0159912109375 ; p_acc=0.9947120547294617\n",
      "warmup step 3 ; o=1.3837741613388062 ; dH=-0.187744140625 ; p_acc=0.9960340261459351\n",
      "warmup step 4 ; o=1.3830711841583252 ; dH=-0.0695037841796875 ; p_acc=0.996827244758606\n",
      "warmup step 5 ; o=1.3850383758544922 ; dH=0.08349609375 ; p_acc=0.9840051531791687\n",
      "warmup step 6 ; o=1.3860607147216797 ; dH=-0.204315185546875 ; p_acc=0.9862901568412781\n",
      "warmup step 7 ; o=1.3877161741256714 ; dH=0.03631591796875 ; p_acc=0.9835458397865295\n",
      "warmup step 8 ; o=1.3879704475402832 ; dH=-0.16998291015625 ; p_acc=0.9853740334510803\n",
      "warmup step 9 ; o=1.3883551359176636 ; dH=-0.250335693359375 ; p_acc=0.9868366122245789\n",
      "warmup step 10 ; o=1.3883551359176636 ; dH=0.4791107177734375 ; p_acc=0.9534273147583008\n",
      "warmup step 11 ; o=1.3890440464019775 ; dH=0.0567626953125 ; p_acc=0.9527099132537842\n",
      "warmup step 12 ; o=1.388329029083252 ; dH=-0.111572265625 ; p_acc=0.956347644329071\n",
      "warmup step 13 ; o=1.3899879455566406 ; dH=0.072509765625 ; p_acc=0.9544697403907776\n",
      "warmup step 14 ; o=1.3889011144638062 ; dH=0.25677490234375 ; p_acc=0.9424079656600952\n",
      "warmup step 15 ; o=1.3895013332366943 ; dH=-0.048614501953125 ; p_acc=0.946007490158081\n",
      "warmup step 16 ; o=1.39230477809906 ; dH=-0.05224609375 ; p_acc=0.9491835236549377\n",
      "warmup step 17 ; o=1.392423391342163 ; dH=-0.016448974609375 ; p_acc=0.9520066380500793\n",
      "warmup step 18 ; o=1.393000602722168 ; dH=-0.2380828857421875 ; p_acc=0.9545326232910156\n",
      "warmup step 19 ; o=1.394442081451416 ; dH=0.124267578125 ; p_acc=0.9509631991386414\n",
      "warmup step 20 ; o=1.3977577686309814 ; dH=-0.16333770751953125 ; p_acc=0.9532983303070068\n",
      "warmup step 21 ; o=1.3942914009094238 ; dH=-0.2283935546875 ; p_acc=0.9554211497306824\n",
      "warmup step 22 ; o=1.3967827558517456 ; dH=0.34674072265625 ; p_acc=0.9446198344230652\n",
      "warmup step 23 ; o=1.3970139026641846 ; dH=-0.1402587890625 ; p_acc=0.9469273090362549\n",
      "warmup step 24 ; o=1.3977088928222656 ; dH=0.086761474609375 ; p_acc=0.9457259774208069\n",
      "warmup step 25 ; o=1.3998470306396484 ; dH=-0.235443115234375 ; p_acc=0.9478135108947754\n",
      "warmup step 26 ; o=1.4001212120056152 ; dH=0.2802734375 ; p_acc=0.9406936168670654\n",
      "warmup step 27 ; o=1.4010062217712402 ; dH=-0.09259033203125 ; p_acc=0.9428117275238037\n",
      "warmup step 28 ; o=1.4033750295639038 ; dH=-0.2021484375 ; p_acc=0.9447836875915527\n",
      "warmup step 29 ; o=1.4058893918991089 ; dH=-0.0214691162109375 ; p_acc=0.9466242790222168\n",
      "warmup step 30 ; o=1.4041385650634766 ; dH=0.1685791015625 ; p_acc=0.9433416128158569\n",
      "warmup step 31 ; o=1.4041385650634766 ; dH=0.135345458984375 ; p_acc=0.9411563873291016\n",
      "warmup step 32 ; o=1.4033288955688477 ; dH=0.121917724609375 ; p_acc=0.939461350440979\n",
      "warmup step 33 ; o=1.4055211544036865 ; dH=-0.00537109375 ; p_acc=0.9412418603897095\n",
      "warmup step 34 ; o=1.4045932292938232 ; dH=-0.21441650390625 ; p_acc=0.9429206848144531\n",
      "warmup step 35 ; o=1.404688835144043 ; dH=-0.065948486328125 ; p_acc=0.9445062279701233\n",
      "warmup step 36 ; o=1.4031586647033691 ; dH=0.06597900390625 ; p_acc=0.9442803263664246\n",
      "warmup step 37 ; o=1.4035004377365112 ; dH=-0.13079833984375 ; p_acc=0.945746660232544\n",
      "warmup step 38 ; o=1.4051774740219116 ; dH=-0.3162841796875 ; p_acc=0.9471377730369568\n",
      "warmup step 39 ; o=1.405210256576538 ; dH=0.0132598876953125 ; p_acc=0.9481300711631775\n",
      "warmup step 40 ; o=1.4057302474975586 ; dH=0.0946044921875 ; p_acc=0.9471935033798218\n",
      "warmup step 41 ; o=1.405534029006958 ; dH=0.11138916015625 ; p_acc=0.945941150188446\n",
      "warmup step 42 ; o=1.4065617322921753 ; dH=0.19403076171875 ; p_acc=0.9430966973304749\n",
      "warmup step 43 ; o=1.4112377166748047 ; dH=0.015899658203125 ; p_acc=0.9440314769744873\n",
      "warmup step 44 ; o=1.4104359149932861 ; dH=0.038818359375 ; p_acc=0.9444290995597839\n",
      "warmup step 45 ; o=1.4104359149932861 ; dH=0.1957244873046875 ; p_acc=0.9417728185653687\n",
      "warmup step 46 ; o=1.4098494052886963 ; dH=-0.19366455078125 ; p_acc=0.9430116415023804\n",
      "warmup step 47 ; o=1.4124120473861694 ; dH=-0.03179931640625 ; p_acc=0.9441989660263062\n",
      "warmup step 48 ; o=1.4118236303329468 ; dH=-0.327484130859375 ; p_acc=0.94533771276474\n",
      "warmup step 49 ; o=1.41279935836792 ; dH=0.01177978515625 ; p_acc=0.9461967349052429\n"
     ]
    }
   ],
   "source": [
    "coef, O = warmup_scan(\n",
    "    coef,\n",
    "    beta=6.586,\n",
    "    random_key=random_key,\n",
    "    observable_fn=jax.jit(lambda x: mean_wilson_rectangle(coef_to_lie_group(x), 3, 3, time_unique=False).real),\n",
    "    tau=2.0,\n",
    "    nfev_approx=25,\n",
    "    total_iters=100,\n",
    "    warmup_iters=0\n",
    ")"
   ]
  },
  {
   "cell_type": "code",
   "execution_count": null,
   "metadata": {},
   "outputs": [
    {
     "name": "stderr",
     "output_type": "stream",
     "text": [
      "  0%|          | 0/3000 [00:00<?, ?it/s]"
     ]
    }
   ],
   "source": [
    "wilson_loops = []\n",
    "\n",
    "stepper_fn = jax.jit(HMC(6.586, wilson_action, nfev_approx=25))\n",
    "\n",
    "for i in (bar := tqdm(range(3000))):\n",
    "    random_key, key1 = jax.random.split(random_key)\n",
    "    coef, (dH, p_acc) = stepper_fn(coef, tau=2.0, random_key=key1)\n",
    "\n",
    "    # Calculate wilson loops\n",
    "    wilson_loops.append(calculate_wilson_loops(coef, (1, 16), (1, 24), smear=True))\n",
    "\n",
    "    bar.set_postfix({\"dH\": dH})"
   ]
  },
  {
   "cell_type": "code",
   "execution_count": 28,
   "metadata": {},
   "outputs": [],
   "source": [
    "wilson_loops = np.array(wilson_loops)\n",
    "mean_loops = np.real(wilson_loops.mean(axis=0)).copy()\n",
    "loop_errors = np.sqrt(np.var(wilson_loops, axis=0, ddof=1) / wilson_loops.shape[0])"
   ]
  },
  {
   "cell_type": "code",
   "execution_count": 32,
   "metadata": {},
   "outputs": [
    {
     "name": "stderr",
     "output_type": "stream",
     "text": [
      "/tmp/ipykernel_6260/3262271945.py:1: RuntimeWarning: invalid value encountered in log\n",
      "  plt.plot((-np.diff(np.log(mean_loops), axis=1))[:-3, 8])\n"
     ]
    },
    {
     "data": {
      "image/png": "[encoded data removed]",
      "text/plain": [
       "<Figure size 640x480 with 1 Axes>"
      ]
     },
     "metadata": {},
     "output_type": "display_data"
    }
   ],
   "source": [
    "plt.plot((-np.diff(np.log(mean_loops), axis=1))[:-3, 8])\n",
    "plt.show()"
   ]
  },
  {
   "cell_type": "code",
   "execution_count": 76,
   "metadata": {},
   "outputs": [
    {
     "data": {
      "image/png": "[encoded data removed]",
      "text/plain": [
       "<Figure size 640x480 with 1 Axes>"
      ]
     },
     "metadata": {},
     "output_type": "display_data"
    },
    {
     "data": {
      "image/png": "[encoded data removed]",
      "text/plain": [
       "<Figure size 640x480 with 1 Axes>"
      ]
     },
     "metadata": {},
     "output_type": "display_data"
    },
    {
     "data": {
      "image/png": "[encoded data removed]",
      "text/plain": [
       "<Figure size 640x480 with 1 Axes>"
      ]
     },
     "metadata": {},
     "output_type": "display_data"
    }
   ],
   "source": [
    "T = 7\n",
    "\n",
    "x = 1+np.arange(len(mean_loops[:-3,T]))\n",
    "V_values = np.log(mean_loops[:-3,T]/mean_loops[:-3,T+1])\n",
    "plt.scatter(x, V_values)\n",
    "plt.title(\"Potential\")\n",
    "plt.show()\n",
    "\n",
    "plt.scatter(np.arange(2, 13), V_values[2:] - V_values[:-2])\n",
    "plt.title(\"Force\")\n",
    "plt.show()\n",
    "\n",
    "C = 1.65\n",
    "\n",
    "x_F, a2F_values = np.arange(2, 13), (V_values[2:] - V_values[:-2]) / 2\n",
    "plt.scatter(x_F, x_F*x_F*a2F_values)\n",
    "plt.plot(np.linspace(2, 13, 100), np.full(100, C))\n",
    "plt.show()"
   ]
  },
  {
   "cell_type": "code",
   "execution_count": null,
   "metadata": {},
   "outputs": [],
   "source": [
    "V = V0 + a/r + sigma*r\n",
    "\n",
    "F = -a/r^2 + sigma\n",
    "sigma*r^2 - a = C\n"
   ]
  },
  {
   "cell_type": "code",
   "execution_count": 80,
   "metadata": {},
   "outputs": [],
   "source": [
    "sigma, V0, alpha = np.polyfit(\n",
    "    1+jnp.arange(L).astype(jnp.float32),\n",
    "    jnp.log(mean_loops[:-3,7] / mean_loops[:-3,8]) * (1+jnp.arange(L)),\n",
    "    deg=2\n",
    ")"
   ]
  },
  {
   "cell_type": "code",
   "execution_count": 81,
   "metadata": {},
   "outputs": [
    {
     "data": {
      "text/plain": [
       "np.float64(-6.601970631640804e-05)"
      ]
     },
     "execution_count": 81,
     "metadata": {},
     "output_type": "execute_result"
    }
   ],
   "source": [
    "sigma"
   ]
  },
  {
   "cell_type": "code",
   "execution_count": 77,
   "metadata": {},
   "outputs": [
    {
     "name": "stdout",
     "output_type": "stream",
     "text": [
      "0.0061647199414350375 0.07851573053493827 0.03521011091650744\n",
      "0.0003359449374211246 0.01832880076331031 0.008219488036929717\n",
      "-3.300136798149393e-05 0.005744681712810025 0.0025761828732914303\n",
      "-0.00010161843154575925 0.010080596785198744 0.004520609163198117\n",
      "-7.876158356072002e-05 0.008874772310359293 0.003979861300118074\n",
      "-7.984823697096723e-05 0.008935784071415738 0.0040072218157672645\n",
      "-0.00010441564447753325 0.010218397353672113 0.004582405356995818\n",
      "-6.601970631640804e-05 0.008125251154051057 0.0036437411001520492\n",
      "-7.902780225823284e-05 0.008889758278954094 0.003986581706498033\n",
      "-7.664914671834059e-05 0.008754949840995127 0.0039261273233995525\n",
      "-7.054695746043557e-05 0.008399223622480566 0.0037666031169192467\n",
      "-0.00010660738794953908 0.010325085372506083 0.004630249234280191\n"
     ]
    }
   ],
   "source": [
    "start, end = (0, -3)\n",
    "for T in range(mean_loops[start:end].shape[0]-1):\n",
    "    L = mean_loops[start:end].shape[0]\n",
    "    V = np.log(mean_loops[:-2, T] / mean_loops[:-2, T+1])\n",
    "\n",
    "    sigma, V0, alpha = np.polyfit(\n",
    "        1+jnp.arange(L).astype(jnp.float32),\n",
    "        jnp.log(mean_loops[start:end,T] / mean_loops[start:end,T+1]) * (1+jnp.arange(L)),\n",
    "        deg=2\n",
    "    )\n",
    "    print(sigma, np.sqrt(np.abs(sigma)), np.sqrt(np.abs(sigma))/440*1000/5.068)"
   ]
  },
  {
   "cell_type": "code",
   "execution_count": 95,
   "metadata": {},
   "outputs": [],
   "source": [
    "sigma, V0, alpha = np.polyfit(\n",
    "    1+jnp.arange(13+1).astype(jnp.float32),\n",
    "    jnp.log(mean_loops[:-2,-2] / mean_loops[:-2,-1]) * (1+jnp.arange(13+1)),\n",
    "    deg=2\n",
    ")"
   ]
  },
  {
   "cell_type": "code",
   "execution_count": 96,
   "metadata": {},
   "outputs": [
    {
     "data": {
      "image/png": "[encoded data removed]",
      "text/plain": [
       "<Figure size 640x480 with 1 Axes>"
      ]
     },
     "metadata": {},
     "output_type": "display_data"
    }
   ],
   "source": [
    "x = 1+jnp.linspace(0, 13, 100)\n",
    "y = V0 + alpha / x + sigma * x\n",
    "\n",
    "plt.scatter(1+jnp.arange(13+1), jnp.log(mean_loops[:-2,-2] / mean_loops[:-2,-1]))\n",
    "plt.plot(x, y)\n",
    "plt.show()"
   ]
  },
  {
   "cell_type": "code",
   "execution_count": 98,
   "metadata": {},
   "outputs": [
    {
     "data": {
      "text/plain": [
       "Array(0.11995274, dtype=float32)"
      ]
     },
     "execution_count": 98,
     "metadata": {},
     "output_type": "execute_result"
    }
   ],
   "source": [
    "jnp.sqrt(np.abs(sigma)) / 440 * 1000 * 0.1973164956590371"
   ]
  },
  {
   "cell_type": "code",
   "execution_count": null,
   "metadata": {},
   "outputs": [],
   "source": []
  }
 ],
 "metadata": {
  "kernelspec": {
   "display_name": "lattice-qcd",
   "language": "python",
   "name": "python3"
  },
  "language_info": {
   "codemirror_mode": {
    "name": "ipython",
    "version": 3
   },
   "file_extension": ".py",
   "mimetype": "text/x-python",
   "name": "python",
   "nbconvert_exporter": "python",
   "pygments_lexer": "ipython3",
   "version": "3.11.11"
  }
 },
 "nbformat": 4,
 "nbformat_minor": 2
}
