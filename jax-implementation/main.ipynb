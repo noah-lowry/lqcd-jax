{
 "cells": [
  {
   "cell_type": "code",
   "execution_count": 2,
   "metadata": {},
   "outputs": [],
   "source": [
    "import itertools\n",
    "from functools import partial\n",
    "\n",
    "import numpy as np\n",
    "from tqdm import tqdm\n",
    "\n",
    "import jax\n",
    "jax.config.update(\"jax_default_matmul_precision\", \"highest\")\n",
    "import jax.numpy as jnp\n",
    "from jax_tqdm import scan_tqdm\n",
    "\n",
    "from special_unitary import fast_expi_su3, proj_SU3, unitary_violation, special_unitary_grad\n",
    "\n",
    "from gauge_field_utils import wilson_action, accurate_wilson_hamiltonian_error, smear_HYP, smear_stout, wilson_loops_range, luscher_weisz_action\n",
    "from integrators import int_LF2, int_MN2_omelyan, int_MN4_takaishi_forcrand\n",
    "\n",
    "%matplotlib inline\n",
    "import matplotlib.pyplot as plt"
   ]
  },
  {
   "cell_type": "code",
   "execution_count": 3,
   "metadata": {},
   "outputs": [],
   "source": [
    "def HMC(action_fn, beta, integrator, tau_md=1.0, steps_md=10, unitary_violation_tol=5e-6):\n",
    "\n",
    "    action_grad = special_unitary_grad(lambda x: action_fn(x, beta))\n",
    "    \n",
    "    def step_fn(links, random_key, skip_metropolis=False):\n",
    "        key1, key2 = jax.random.split(random_key, 2)\n",
    "        Nc = links.shape[-1]\n",
    "\n",
    "        p0 = jax.random.normal(key1, shape=(*links.shape[:-2], Nc*Nc-1))\n",
    "\n",
    "        links_next, p_final = integrator(links, p0, action_grad, tau_md, steps_md)\n",
    "        links_next = jax.lax.cond(\n",
    "            unitary_violation_tol is not None,\n",
    "            lambda: jax.lax.cond(\n",
    "                unitary_violation(links_next, \"mean\") > unitary_violation_tol,\n",
    "                proj_SU3,\n",
    "                lambda x: x,\n",
    "                links_next\n",
    "            ),\n",
    "            lambda: links_next\n",
    "        )\n",
    "\n",
    "        delta_hamiltonian = accurate_wilson_hamiltonian_error(links, p0, links_next, p_final, beta)\n",
    "        p_acc = jnp.minimum(1, jnp.exp(-delta_hamiltonian))\n",
    "        \n",
    "        return jax.lax.cond(\n",
    "            skip_metropolis,\n",
    "            lambda: links_next,\n",
    "            lambda: jax.lax.cond(\n",
    "                jax.random.uniform(key2) < p_acc,\n",
    "                lambda: links_next,\n",
    "                lambda: links\n",
    "            )\n",
    "        ), (delta_hamiltonian, p_acc)\n",
    "    \n",
    "    return jax.jit(step_fn)"
   ]
  },
  {
   "cell_type": "code",
   "execution_count": 7,
   "metadata": {},
   "outputs": [],
   "source": [
    "L = (12, 12, 12, 12)\n",
    "\n",
    "random_key, key1, key2 = jax.random.split(jax.random.key(0), num=3)\n",
    "gauge_links = jnp.load(\"configs_12x4_beta_5p7.npy\")[-1]\n",
    "# gauge_links = fast_expi_su3(jax.random.normal(key1, shape=(*L, 4, 8), dtype=jnp.float32))\n",
    "# gauge_links = fast_expi_su3(jnp.load(\"warmed_32_16x3_beta_6p0.npy\"))"
   ]
  },
  {
   "cell_type": "code",
   "execution_count": 11,
   "metadata": {},
   "outputs": [],
   "source": [
    "stepper_fn = HMC(\n",
    "    action_fn=partial(luscher_weisz_action, u0=0.8601771466367965),\n",
    "    beta=1.29,\n",
    "    integrator=int_MN2_omelyan,\n",
    "    tau_md=1.0,\n",
    "    steps_md=10,\n",
    "    unitary_violation_tol=6e-5,\n",
    ")"
   ]
  },
  {
   "cell_type": "code",
   "execution_count": 15,
   "metadata": {},
   "outputs": [],
   "source": [
    "force_fn = special_unitary_grad(partial(luscher_weisz_action, beta=1.29, u0=0.8601771466367965))\n",
    "force = force_fn(gauge_links)"
   ]
  },
  {
   "cell_type": "code",
   "execution_count": 12,
   "metadata": {},
   "outputs": [
    {
     "name": "stderr",
     "output_type": "stream",
     "text": [
      " 11%|█         | 213/2000 [02:16<19:07,  1.56it/s, dH=7558.453, p_acc=0.0] \n"
     ]
    },
    {
     "ename": "KeyboardInterrupt",
     "evalue": "",
     "output_type": "error",
     "traceback": [
      "\u001b[31m---------------------------------------------------------------------------\u001b[39m",
      "\u001b[31mKeyboardInterrupt\u001b[39m                         Traceback (most recent call last)",
      "\u001b[36mCell\u001b[39m\u001b[36m \u001b[39m\u001b[32mIn[12]\u001b[39m\u001b[32m, line 4\u001b[39m\n\u001b[32m      2\u001b[39m next_links = gauge_links\n\u001b[32m      3\u001b[39m \u001b[38;5;28;01mfor\u001b[39;00m i \u001b[38;5;129;01min\u001b[39;00m (bar := tqdm(\u001b[38;5;28mrange\u001b[39m(\u001b[32m2000\u001b[39m))):\n\u001b[32m----> \u001b[39m\u001b[32m4\u001b[39m     next_links, aux = \u001b[43mstepper_fn\u001b[49m\u001b[43m(\u001b[49m\u001b[43mnext_links\u001b[49m\u001b[43m,\u001b[49m\u001b[43m \u001b[49m\u001b[43mjax\u001b[49m\u001b[43m.\u001b[49m\u001b[43mrandom\u001b[49m\u001b[43m.\u001b[49m\u001b[43mkey\u001b[49m\u001b[43m(\u001b[49m\u001b[38;5;28;43mint\u001b[39;49m\u001b[43m(\u001b[49m\u001b[32;43m10000\u001b[39;49m\u001b[43m*\u001b[49m\u001b[43mnp\u001b[49m\u001b[43m.\u001b[49m\u001b[43mrandom\u001b[49m\u001b[43m.\u001b[49m\u001b[43mrand\u001b[49m\u001b[43m(\u001b[49m\u001b[43m)\u001b[49m\u001b[43m)\u001b[49m\u001b[43m)\u001b[49m\u001b[43m)\u001b[49m\n\u001b[32m      5\u001b[39m     bar.set_postfix({\u001b[33m\"\u001b[39m\u001b[33mdH\u001b[39m\u001b[33m\"\u001b[39m: aux[\u001b[32m0\u001b[39m], \u001b[33m\"\u001b[39m\u001b[33mp_acc\u001b[39m\u001b[33m\"\u001b[39m: aux[\u001b[32m1\u001b[39m]})\n\u001b[32m      6\u001b[39m     configs.append(np.array(next_links))\n",
      "\u001b[31mKeyboardInterrupt\u001b[39m: "
     ]
    }
   ],
   "source": [
    "configs = []\n",
    "next_links = gauge_links\n",
    "for i in (bar := tqdm(range(2000))):\n",
    "    next_links, aux = stepper_fn(next_links, jax.random.key(int(10000*np.random.rand())))\n",
    "    bar.set_postfix({\"dH\": aux[0], \"p_acc\": aux[1]})\n",
    "    configs.append(np.array(next_links))\n",
    "configs = np.stack(configs)"
   ]
  },
  {
   "cell_type": "code",
   "execution_count": 137,
   "metadata": {},
   "outputs": [
    {
     "name": "stderr",
     "output_type": "stream",
     "text": [
      "100%|██████████| 1766/1766 [01:18<00:00, 22.53it/s]\n"
     ]
    }
   ],
   "source": [
    "smeared_configs = np.stack([np.array(smear_stout(c, n=5, rho=0.2, temporal=False)) for c in tqdm(configs)])"
   ]
  },
  {
   "cell_type": "code",
   "execution_count": 139,
   "metadata": {},
   "outputs": [
    {
     "name": "stderr",
     "output_type": "stream",
     "text": [
      "100%|██████████| 1766/1766 [00:42<00:00, 41.72it/s]\n"
     ]
    }
   ],
   "source": [
    "with jax.default_matmul_precision(\"highest\"):\n",
    "    wilson_loops = np.stack([wilson_loops_range(c, 12, 5) for c in tqdm(smeared_configs)])"
   ]
  },
  {
   "cell_type": "code",
   "execution_count": 140,
   "metadata": {},
   "outputs": [],
   "source": [
    "@partial(jax.jit, static_argnums=(1,))\n",
    "def jackknife_stats(data, statistic):\n",
    "    N = len(data)\n",
    "\n",
    "    jack_estimates = jax.vmap(lambda x, i: statistic(jnp.delete(x, i, axis=0, assume_unique_indices=True)), in_axes=[None, 0])(data, jnp.arange(N))\n",
    "\n",
    "    estimate = jnp.mean(jack_estimates, axis=0)\n",
    "    # bias = (N - 1) * (estimate - statistic(data))\n",
    "    stderr = jnp.sqrt((N - 1) * jnp.var(jack_estimates, axis=0, ddof=1))\n",
    "\n",
    "    return estimate, stderr"
   ]
  },
  {
   "cell_type": "code",
   "execution_count": 141,
   "metadata": {},
   "outputs": [
    {
     "name": "stdout",
     "output_type": "stream",
     "text": [
      "Mean plaquette: 0.935396 (0.000142)\n"
     ]
    }
   ],
   "source": [
    "mean_wilson_loops, err_wilson_loops = jackknife_stats(wilson_loops[60:].real, lambda x: jnp.mean(x, axis=0))\n",
    "\n",
    "print(f\"Mean plaquette: {mean_wilson_loops[0, 0]:.6f} ({err_wilson_loops[0, 0]:.6f})\")"
   ]
  },
  {
   "cell_type": "code",
   "execution_count": 143,
   "metadata": {},
   "outputs": [],
   "source": [
    "@jax.jit\n",
    "def effective_potential(W1, W2, dW1, dW2):\n",
    "    energy_fn = lambda x: jnp.log(x[0] / x[1])\n",
    "    stderr_fn = lambda x, dx: jnp.sqrt(jnp.square(jax.grad(energy_fn)(x) * dx).sum())\n",
    "\n",
    "    X = jnp.stack([W1, W2], axis=1)\n",
    "    dX = jnp.stack([dW1, dW2], axis=1)\n",
    "\n",
    "    V = jax.vmap(energy_fn, in_axes=(0,))(X)\n",
    "    dV = jax.vmap(stderr_fn, in_axes=(0, 0))(X, dX)\n",
    "\n",
    "    return V, dV"
   ]
  },
  {
   "cell_type": "code",
   "execution_count": 146,
   "metadata": {},
   "outputs": [
    {
     "data": {
      "image/png": "[encoded data removed]",
      "text/plain": [
       "<Figure size 640x480 with 1 Axes>"
      ]
     },
     "metadata": {},
     "output_type": "display_data"
    }
   ],
   "source": [
    "R_range = (0, -8)\n",
    "T_level = 3\n",
    "\n",
    "V, dV = effective_potential(mean_wilson_loops[R_range[0]:R_range[1], T_level], mean_wilson_loops[R_range[0]:R_range[1], T_level+1],\n",
    "                    err_wilson_loops[R_range[0]:R_range[1], T_level], err_wilson_loops[R_range[0]:R_range[1], T_level+1])\n",
    "R = (jnp.arange(len(V))+1).astype(jnp.float32)\n",
    "\n",
    "V0_latt, alpha_latt, sigma_latt = jax.scipy.optimize.minimize(lambda x: jnp.square(x[0] - 4*x[1]/(3*R) + x[2]*R - V).mean(), x0=jnp.array([0.1, 0.1, 0.1]), method=\"BFGS\").x\n",
    "V_fit = V0_latt - 4*alpha_latt/(3*R) + sigma_latt*R\n",
    "sommer_r1 = jnp.sqrt((1.00 - 4*alpha_latt/3) / sigma_latt)\n",
    "\n",
    "plt.errorbar(R, V, dV, fmt='o', capsize=5)\n",
    "plt.plot(R, V_fit, label=f\"α = {alpha_latt:.3g}\\nσ = {sigma_latt:.3g}\\nr1 = {sommer_r1:.3g}\")\n",
    "\n",
    "plt.xlabel(\"R/a\")\n",
    "plt.ylabel(\"aE(R)\")\n",
    "plt.legend()\n",
    "plt.grid()\n",
    "plt.show()"
   ]
  },
  {
   "cell_type": "code",
   "execution_count": 147,
   "metadata": {},
   "outputs": [
    {
     "data": {
      "text/plain": [
       "np.float32(1.9769404)"
      ]
     },
     "execution_count": 147,
     "metadata": {},
     "output_type": "execute_result"
    }
   ],
   "source": [
    "0.36 / (np.sqrt(sigma_latt) / 440 * 1000 / 5.068)"
   ]
  },
  {
   "cell_type": "code",
   "execution_count": 148,
   "metadata": {},
   "outputs": [
    {
     "data": {
      "text/plain": [
       "np.float32(0.18209958)"
      ]
     },
     "execution_count": 148,
     "metadata": {},
     "output_type": "execute_result"
    }
   ],
   "source": [
    "np.sqrt(sigma_latt) / 440 * 1000 / 5.068"
   ]
  }
 ],
 "metadata": {
  "kernelspec": {
   "display_name": "lattice-qcd",
   "language": "python",
   "name": "python3"
  },
  "language_info": {
   "codemirror_mode": {
    "name": "ipython",
    "version": 3
   },
   "file_extension": ".py",
   "mimetype": "text/x-python",
   "name": "python",
   "nbconvert_exporter": "python",
   "pygments_lexer": "ipython3",
   "version": "3.11.11"
  }
 },
 "nbformat": 4,
 "nbformat_minor": 2
}
