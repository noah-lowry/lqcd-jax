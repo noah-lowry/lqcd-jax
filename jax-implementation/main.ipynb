{
 "cells": [
  {
   "cell_type": "code",
   "execution_count": 1,
   "metadata": {},
   "outputs": [],
   "source": [
    "import itertools\n",
    "from functools import partial\n",
    "\n",
    "import numpy as np\n",
    "from tqdm import tqdm\n",
    "\n",
    "import jax\n",
    "jax.config.update(\"jax_default_matmul_precision\", \"highest\")\n",
    "jax.config.update(\"jax_debug_nans\", True)\n",
    "import jax.numpy as jnp\n",
    "from jax_tqdm import scan_tqdm\n",
    "\n",
    "from special_unitary import (\n",
    "    fast_expi_su3,\n",
    "    special_unitary_grad,\n",
    "    unitary_violation,\n",
    "    proj_SU3\n",
    ")\n",
    "\n",
    "from integrators import int_2MN, int_4MN4FP\n",
    "from gauge_field_utils import (\n",
    "    wilson_action,\n",
    "    wilson_gauge_error,\n",
    "    luscher_weisz_action,\n",
    "    luscher_weisz_gauge_error,\n",
    "    wilson_loops_range,\n",
    "    smear_HYP,\n",
    "    smear_stout,\n",
    "    mean_plaquette\n",
    ")\n",
    "\n",
    "%matplotlib inline\n",
    "import matplotlib.pyplot as plt"
   ]
  },
  {
   "cell_type": "code",
   "execution_count": 2,
   "metadata": {},
   "outputs": [],
   "source": [
    "def HMC(action_fn, error_fn, integrator, tau_md=1.0, steps_md=10, unitary_violation_tol=5e-6):\n",
    "\n",
    "    action_grad = special_unitary_grad(action_fn)\n",
    "    \n",
    "    def step_fn(links, random_key, skip_metropolis=False):\n",
    "        key1, key2 = jax.random.split(random_key, 2)\n",
    "        Nc = links.shape[-1]\n",
    "\n",
    "        p0 = jax.random.normal(key1, shape=(*links.shape[:-2], Nc*Nc-1))\n",
    "\n",
    "        links_next, p_final = integrator(links, p0, action_grad, tau_md, steps_md)\n",
    "        links_next = jax.lax.cond(\n",
    "            unitary_violation_tol is not None,\n",
    "            lambda: jax.lax.cond(\n",
    "                unitary_violation(links_next, \"mean\") > unitary_violation_tol,\n",
    "                proj_SU3,\n",
    "                lambda x: x,\n",
    "                links_next\n",
    "            ),\n",
    "            lambda: links_next\n",
    "        )\n",
    "\n",
    "        delta_hamiltonian = error_fn(links, p0, links_next, p_final)\n",
    "        p_acc = jnp.minimum(1, jnp.exp(-delta_hamiltonian))\n",
    "        \n",
    "        return jax.lax.cond(\n",
    "            skip_metropolis,\n",
    "            lambda: links_next,\n",
    "            lambda: jax.lax.cond(\n",
    "                jax.random.uniform(key2) < p_acc,\n",
    "                lambda: links_next,\n",
    "                lambda: links\n",
    "            )\n",
    "        ), (delta_hamiltonian, p_acc)\n",
    "    \n",
    "    return jax.jit(step_fn)"
   ]
  },
  {
   "cell_type": "code",
   "execution_count": 3,
   "metadata": {},
   "outputs": [],
   "source": [
    "random_key, _k = jax.random.split(jax.random.key(0), num=2)\n",
    "\n",
    "L = (16, 16, 16, 16)\n",
    "gauge_links = fast_expi_su3(jax.random.normal(\n",
    "    _k,\n",
    "    shape=(*L, 4, 8),\n",
    "    dtype=jnp.float32\n",
    "))\n",
    "# gauge_links = jnp.load(\"../results/configs_3-25-25_1/step_205_gauge.npy\")\n",
    "\n",
    "stepper_fn = HMC(\n",
    "    action_fn=partial(luscher_weisz_action, beta=8.00, u0=0.8876875888655319),\n",
    "    error_fn=partial(luscher_weisz_gauge_error, beta=8.00, u0=0.8876875888655319),\n",
    "    integrator=int_4MN4FP,\n",
    "    tau_md=1.0,\n",
    "    steps_md=25,\n",
    "    unitary_violation_tol=5e-6,\n",
    ")"
   ]
  },
  {
   "cell_type": "code",
   "execution_count": 4,
   "metadata": {},
   "outputs": [
    {
     "name": "stderr",
     "output_type": "stream",
     "text": [
      "  3%|▎         | 32/1000 [07:32<3:48:17, 14.15s/it, pl=1.8637114, delta_H=0.6849365, p_acc=0.50412226, running_p_acc=0.59303844] \n"
     ]
    },
    {
     "ename": "KeyboardInterrupt",
     "evalue": "",
     "output_type": "error",
     "traceback": [
      "\u001b[31m---------------------------------------------------------------------------\u001b[39m",
      "\u001b[31mKeyboardInterrupt\u001b[39m                         Traceback (most recent call last)",
      "\u001b[36mCell\u001b[39m\u001b[36m \u001b[39m\u001b[32mIn[4]\u001b[39m\u001b[32m, line 6\u001b[39m\n\u001b[32m      3\u001b[39m \u001b[38;5;28;01mfor\u001b[39;00m step \u001b[38;5;129;01min\u001b[39;00m (bar := tqdm(\u001b[38;5;28mrange\u001b[39m(\u001b[32m1000\u001b[39m))):\n\u001b[32m      4\u001b[39m     random_key, _k = jax.random.split(random_key, num=\u001b[32m2\u001b[39m)\n\u001b[32m----> \u001b[39m\u001b[32m6\u001b[39m     gauge_links, aux = \u001b[43mstepper_fn\u001b[49m\u001b[43m(\u001b[49m\u001b[43mgauge_links\u001b[49m\u001b[43m,\u001b[49m\u001b[43m \u001b[49m\u001b[43m_k\u001b[49m\u001b[43m)\u001b[49m\n\u001b[32m      7\u001b[39m     mean_plaq = mean_plaquette(gauge_links)\n\u001b[32m      8\u001b[39m     jnp.save(\u001b[33mf\u001b[39m\u001b[33m\"\u001b[39m\u001b[33m../results/configs_3-25-25_2/step_\u001b[39m\u001b[38;5;132;01m{\u001b[39;00mstep\u001b[38;5;132;01m}\u001b[39;00m\u001b[33m_gauge.npy\u001b[39m\u001b[33m\"\u001b[39m, gauge_links)\n",
      "\u001b[36mFile \u001b[39m\u001b[32m~/miniconda3/envs/lattice-qcd/lib/python3.11/site-packages/jax/_src/traceback_util.py:176\u001b[39m, in \u001b[36mapi_boundary.<locals>.reraise_with_filtered_traceback\u001b[39m\u001b[34m(*args, **kwargs)\u001b[39m\n\u001b[32m    153\u001b[39m \u001b[38;5;28;01mdef\u001b[39;00m\u001b[38;5;250m \u001b[39m\u001b[34mapi_boundary\u001b[39m(fun: C) -> C:\n\u001b[32m    154\u001b[39m \u001b[38;5;250m  \u001b[39m\u001b[33;03m'''Wraps ``fun`` to form a boundary for filtering exception tracebacks.\u001b[39;00m\n\u001b[32m    155\u001b[39m \n\u001b[32m    156\u001b[39m \u001b[33;03m  When an exception occurs below ``fun``, this appends to it a custom\u001b[39;00m\n\u001b[32m   (...)\u001b[39m\u001b[32m    173\u001b[39m \u001b[33;03m  traceback that excludes the frames specific to JAX's implementation.\u001b[39;00m\n\u001b[32m    174\u001b[39m \u001b[33;03m  '''\u001b[39;00m\n\u001b[32m--> \u001b[39m\u001b[32m176\u001b[39m   \u001b[38;5;129m@functools\u001b[39m.wraps(fun)\n\u001b[32m    177\u001b[39m   \u001b[38;5;28;01mdef\u001b[39;00m\u001b[38;5;250m \u001b[39m\u001b[34mreraise_with_filtered_traceback\u001b[39m(*args, **kwargs):\n\u001b[32m    178\u001b[39m     __tracebackhide__ = \u001b[38;5;28;01mTrue\u001b[39;00m\n\u001b[32m    179\u001b[39m     \u001b[38;5;28;01mtry\u001b[39;00m:\n",
      "\u001b[31mKeyboardInterrupt\u001b[39m: "
     ]
    }
   ],
   "source": [
    "running_p_acc = 0\n",
    "\n",
    "for step in (bar := tqdm(range(1000))):\n",
    "    random_key, _k = jax.random.split(random_key, num=2)\n",
    "\n",
    "    gauge_links, aux = stepper_fn(gauge_links, _k)\n",
    "    mean_plaq = mean_plaquette(gauge_links)\n",
    "    jnp.save(f\"../results/configs_3-25-25_2/step_{step}_gauge.npy\", gauge_links)\n",
    "    running_p_acc = (running_p_acc * step + aux[1]) / (step + 1)\n",
    "\n",
    "    bar.set_postfix({\n",
    "        \"pl\": mean_plaq,\n",
    "        \"delta_H\": aux[0],\n",
    "        \"p_acc\": aux[1],\n",
    "        \"running_p_acc\": running_p_acc\n",
    "    })"
   ]
  }
 ],
 "metadata": {
  "kernelspec": {
   "display_name": "lattice-qcd",
   "language": "python",
   "name": "python3"
  },
  "language_info": {
   "codemirror_mode": {
    "name": "ipython",
    "version": 3
   },
   "file_extension": ".py",
   "mimetype": "text/x-python",
   "name": "python",
   "nbconvert_exporter": "python",
   "pygments_lexer": "ipython3",
   "version": "3.11.11"
  }
 },
 "nbformat": 4,
 "nbformat_minor": 2
}
