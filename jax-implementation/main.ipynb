{
 "cells": [
  {
   "cell_type": "code",
   "execution_count": 21,
   "metadata": {},
   "outputs": [],
   "source": [
    "import itertools\n",
    "from functools import partial\n",
    "\n",
    "import numpy as np\n",
    "from tqdm import tqdm\n",
    "\n",
    "import jax\n",
    "jax.config.update(\"jax_default_matmul_precision\", \"highest\")\n",
    "import jax.numpy as jnp\n",
    "from jax_tqdm import scan_tqdm\n",
    "\n",
    "from special_unitary import LALG_SU_N, proj_SU3, unitary_violation, special_unitary_grad\n",
    "\n",
    "from gauge_field_utils import wilson_action, accurate_wilson_hamiltonian_error, smear_HYP, smear_stout, wilson_loops_range, luscher_weisz_action\n",
    "from integrators import int_LF2, int_MN2_omelyan, int_MN4_takaishi_forcrand\n",
    "\n",
    "%matplotlib inline\n",
    "import matplotlib.pyplot as plt"
   ]
  },
  {
   "cell_type": "code",
   "execution_count": 2,
   "metadata": {},
   "outputs": [],
   "source": [
    "def HMC(action_fn, beta, integrator, tau_md=1.0, steps_md=10, unitary_violation_tol=5e-6):\n",
    "\n",
    "    action_grad = special_unitary_grad(lambda x: action_fn(x, beta))\n",
    "    \n",
    "    def step_fn(links, random_key, skip_metropolis=False):\n",
    "        key1, key2 = jax.random.split(random_key, 2)\n",
    "        Nc = links.shape[-1]\n",
    "\n",
    "        p0 = jax.random.normal(key1, shape=(*links.shape[:-2], Nc*Nc-1))\n",
    "\n",
    "        links_next, p_final = integrator(links, p0, action_grad, tau_md, steps_md)\n",
    "        links_next = jax.lax.cond(\n",
    "            unitary_violation_tol is not None,\n",
    "            lambda: jax.lax.cond(\n",
    "                unitary_violation(links_next, \"mean\") > unitary_violation_tol,\n",
    "                proj_SU3,\n",
    "                lambda x: x,\n",
    "                links_next\n",
    "            ),\n",
    "            lambda: links_next\n",
    "        )\n",
    "\n",
    "        delta_hamiltonian = accurate_wilson_hamiltonian_error(links, p0, links_next, p_final, beta)\n",
    "        p_acc = jnp.minimum(1, jnp.exp(-delta_hamiltonian))\n",
    "        \n",
    "        return jax.lax.cond(\n",
    "            skip_metropolis,\n",
    "            lambda: links_next,\n",
    "            lambda: jax.lax.cond(\n",
    "                jax.random.uniform(key2) < p_acc,\n",
    "                lambda: links_next,\n",
    "                lambda: links\n",
    "            )\n",
    "        ), (delta_hamiltonian, p_acc)\n",
    "    \n",
    "    return jax.jit(step_fn)"
   ]
  },
  {
   "cell_type": "code",
   "execution_count": 4,
   "metadata": {},
   "outputs": [],
   "source": [
    "L = (12, 12, 12, 12)\n",
    "\n",
    "random_key, key1, key2 = jax.random.split(jax.random.key(0), num=3)\n",
    "gauge_links = LALG_SU_N(jax.random.normal(key1, shape=(*L, 4, 8), dtype=jnp.float32))\n",
    "# gauge_links = LALG_SU_N(jnp.load(\"warmed_32_16x3_beta_6p0.npy\"))"
   ]
  },
  {
   "cell_type": "code",
   "execution_count": 5,
   "metadata": {},
   "outputs": [],
   "source": [
    "stepper_fn = HMC(\n",
    "    action_fn=wilson_action,\n",
    "    beta=5.7,\n",
    "    integrator=int_MN2_omelyan,\n",
    "    tau_md=1.0,\n",
    "    steps_md=20,\n",
    "    unitary_violation_tol=6e-5,\n",
    ")"
   ]
  },
  {
   "cell_type": "code",
   "execution_count": 50,
   "metadata": {},
   "outputs": [
    {
     "name": "stderr",
     "output_type": "stream",
     "text": [
      "100%|██████████| 200/200 [11:17<00:00,  3.39s/it, dH=0.026435852]  \n"
     ]
    }
   ],
   "source": [
    "configs = []\n",
    "next_links = gauge_links\n",
    "for i in (bar := tqdm(range(200))):\n",
    "    next_links, aux = stepper_fn(next_links, jax.random.key(int(10000*np.random.rand())))\n",
    "    bar.set_postfix({\"dH\": aux[0]})\n",
    "    configs.append(np.array(next_links))\n",
    "configs = np.stack(configs)"
   ]
  }
 ],
 "metadata": {
  "kernelspec": {
   "display_name": "lattice-qcd",
   "language": "python",
   "name": "python3"
  },
  "language_info": {
   "codemirror_mode": {
    "name": "ipython",
    "version": 3
   },
   "file_extension": ".py",
   "mimetype": "text/x-python",
   "name": "python",
   "nbconvert_exporter": "python",
   "pygments_lexer": "ipython3",
   "version": "3.11.11"
  }
 },
 "nbformat": 4,
 "nbformat_minor": 2
}
