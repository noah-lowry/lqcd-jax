{
 "cells": [
  {
   "cell_type": "code",
   "execution_count": 1,
   "metadata": {},
   "outputs": [],
   "source": [
    "import os\n",
    "os.environ[\"JAX_ENABLE_X64\"] = \"1\"\n",
    "import itertools\n",
    "from functools import partial\n",
    "\n",
    "import numpy as np\n",
    "from tqdm import tqdm\n",
    "\n",
    "import jax\n",
    "jax.config.update(\"jax_default_matmul_precision\", \"highest\")\n",
    "import jax.numpy as jnp\n",
    "from jax_tqdm import scan_tqdm\n",
    "\n",
    "from gauge_field_utils import coef_to_lie_group, wilson_action, mean_wilson_rectangle, accurate_wilson_hamiltonian_error\n",
    "from integrators import int_LF2, int_MN2_omelyan, int_MN4_takaishi_forcrand\n",
    "\n",
    "%matplotlib inline\n",
    "import matplotlib.pyplot as plt"
   ]
  },
  {
   "cell_type": "code",
   "execution_count": 2,
   "metadata": {},
   "outputs": [],
   "source": [
    "def HMC(beta, afn, nfev_approx):\n",
    "    action_fn = lambda x: afn(coef_to_lie_group(x), beta)\n",
    "    action_grad_fn = jax.grad(action_fn)\n",
    "    \n",
    "    def step_fn(coef, tau, random_key):\n",
    "        key1, key2 = jax.random.split(random_key, num=2)\n",
    "        p0 = jax.random.normal(key1, shape=coef.shape, dtype=coef.dtype)\n",
    "\n",
    "        coef_prop, pt = int_MN4_takaishi_forcrand(coef, p0, action_grad_fn, tau, nfev_approx)\n",
    "        dH = accurate_wilson_hamiltonian_error(coef, p0, coef_prop, pt, beta)\n",
    "\n",
    "        p_acc = jnp.minimum(1, jnp.exp(-dH))\n",
    "\n",
    "        coef_next = jax.lax.cond(\n",
    "            jax.random.uniform(key2) < p_acc,\n",
    "            lambda: coef_prop,\n",
    "            lambda: coef\n",
    "        )\n",
    "\n",
    "        return coef_next, (dH, p_acc)\n",
    "\n",
    "    return step_fn\n",
    "\n",
    "def warmup_tint(coef, beta, random_key, observable_fn, tau, iters=2000, nfev_approx=20):\n",
    "    stepper_fn = jax.jit(HMC(beta, wilson_action, nfev_approx))\n",
    "    \n",
    "    @scan_tqdm(iters, print_rate=1, tqdm_type=\"notebook\")\n",
    "    def warmup_step(carry, step):\n",
    "        coef, rng_key, running_p_acc = carry\n",
    "        rng_key, k1 = jax.random.split(rng_key)\n",
    "        \n",
    "        coef, (dH, p_acc) = stepper_fn(coef, tau, k1)\n",
    "        running_p_acc = (running_p_acc * step + p_acc) / (step + 1)\n",
    "        o = observable_fn(coef)\n",
    "        jax.debug.print(\"warmup step {step} ; o={o} ; dH={dH} ; p_acc={p_acc}\", step=step, o=o, dH=dH, p_acc=running_p_acc)\n",
    "\n",
    "        carry = (coef, rng_key, running_p_acc)\n",
    "        return carry, o\n",
    "\n",
    "    (coef, *_), O = jax.lax.scan(\n",
    "        warmup_step,\n",
    "        init=(coef, random_key, 0),\n",
    "        xs=np.arange(iters),\n",
    "        length=iters\n",
    "    )\n",
    "\n",
    "    return coef, O\n",
    "\n",
    "@partial(jax.jit, static_argnames=[\"R_range\", \"T_range\"])\n",
    "def calculate_wilson_loops(gauge_coef, R_range, T_range):\n",
    "    R_min, R_max = R_range\n",
    "    T_min, T_max = T_range\n",
    "    wilson_loop_values = jnp.array([mean_wilson_rectangle(coef_to_lie_group(gauge_coef), R, T, time_unique=False) for R, T in itertools.product(range(R_min, R_max+1), range(T_min, T_max+1))]).reshape(R_max-R_min+1, T_max-T_min+1)\n",
    "    return wilson_loop_values"
   ]
  },
  {
   "cell_type": "code",
   "execution_count": 3,
   "metadata": {},
   "outputs": [],
   "source": [
    "L = (20, 10, 10, 10)\n",
    "R_range = (1, 10)\n",
    "T_range = (1, 20)\n",
    "\n",
    "random_key, key1, key2 = jax.random.split(jax.random.key(0), num=3)\n",
    "coef = jax.random.normal(key1, shape=(*L, 4, 8), dtype=jnp.float32)\n",
    "# coef = jnp.load(\"warmed_16_8x3_beta_6p7.npy\")"
   ]
  },
  {
   "cell_type": "code",
   "execution_count": null,
   "metadata": {},
   "outputs": [],
   "source": [
    "coef, O = warmup_tint(\n",
    "    coef,\n",
    "    beta=6.7,\n",
    "    random_key=random_key,\n",
    "    observable_fn=jax.jit(lambda x: mean_wilson_rectangle(coef_to_lie_group(x), 3, 3, time_unique=False).real),\n",
    "    tau=1.0,\n",
    "    iters=10000,\n",
    "    nfev_approx=10\n",
    ")"
   ]
  },
  {
   "cell_type": "code",
   "execution_count": null,
   "metadata": {},
   "outputs": [],
   "source": [
    "wilson_loops = []\n",
    "\n",
    "stepper_fn = jax.jit(HMC(6.7, wilson_action, nfev_approx=8))\n",
    "\n",
    "for i in (bar := tqdm(range(20000))):\n",
    "    random_key, key1 = jax.random.split(random_key)\n",
    "    coef, (dH, p_acc) = stepper_fn(coef, tau=1.0, random_key=key1)\n",
    "\n",
    "    # Calculate wilson loops\n",
    "    if i % 50 == 0:\n",
    "        wilson_loops.append(calculate_wilson_loops(coef, R_range, T_range))\n",
    "\n",
    "    bar.set_postfix({\"dH\": dH})"
   ]
  },
  {
   "cell_type": "code",
   "execution_count": 27,
   "metadata": {},
   "outputs": [],
   "source": [
    "wilson_loops = jnp.array(wilson_loops)\n",
    "mean_loops = jnp.real(wilson_loops.mean(axis=0)).copy()\n",
    "omrt_loops = 1 - mean_loops/3"
   ]
  },
  {
   "cell_type": "code",
   "execution_count": null,
   "metadata": {},
   "outputs": [],
   "source": [
    "plt.plot(jnp.log(mean_loops[:-2,5] / mean_loops[:-2,6]))\n",
    "plt.show()"
   ]
  },
  {
   "cell_type": "code",
   "execution_count": 39,
   "metadata": {},
   "outputs": [],
   "source": [
    "sigma, V0, alpha = jnp.polyfit(\n",
    "    1+jnp.arange(5+1).astype(jnp.float32),\n",
    "    jnp.log(mean_loops[:-2,5] / mean_loops[:-2,6]) * (1+jnp.arange(5+1)),\n",
    "    deg=2\n",
    ")"
   ]
  },
  {
   "cell_type": "code",
   "execution_count": null,
   "metadata": {},
   "outputs": [],
   "source": [
    "x = 1+jnp.linspace(0, 5, 100)\n",
    "y = V0 + alpha / x + sigma * x\n",
    "\n",
    "plt.scatter(1+jnp.arange(5+1), jnp.log(mean_loops[:-2,5] / mean_loops[:-2,6]))\n",
    "plt.plot(x, y)\n",
    "plt.show()"
   ]
  },
  {
   "cell_type": "code",
   "execution_count": null,
   "metadata": {},
   "outputs": [],
   "source": [
    "jnp.sqrt(sigma) / 440 * 1000 * 0.1973164956590371"
   ]
  },
  {
   "cell_type": "code",
   "execution_count": null,
   "metadata": {},
   "outputs": [],
   "source": []
  }
 ],
 "metadata": {
  "kernelspec": {
   "display_name": "lattice-qcd",
   "language": "python",
   "name": "python3"
  },
  "language_info": {
   "codemirror_mode": {
    "name": "ipython",
    "version": 3
   },
   "file_extension": ".py",
   "mimetype": "text/x-python",
   "name": "python",
   "nbconvert_exporter": "python",
   "pygments_lexer": "ipython3",
   "version": "3.11.11"
  }
 },
 "nbformat": 4,
 "nbformat_minor": 2
}
