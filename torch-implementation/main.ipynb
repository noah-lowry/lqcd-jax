{
 "cells": [
  {
   "cell_type": "code",
   "execution_count": 1,
   "metadata": {},
   "outputs": [],
   "source": [
    "import numpy as np\n",
    "import torch\n",
    "\n",
    "from gauge_field_utils import *\n",
    "from special_unitary import *\n",
    "from integrators import *"
   ]
  },
  {
   "cell_type": "code",
   "execution_count": 6,
   "metadata": {},
   "outputs": [],
   "source": [
    "def HMC(action_fn, error_fn, integrator, tau_md=1.0, steps_md=10, unitary_violation_tol=5e-6):\n",
    "\n",
    "    action_grad = special_unitary_grad(action_fn)\n",
    "    \n",
    "    def step_fn(links, skip_metropolis=False):\n",
    "        Nc = links.shape[-1]\n",
    "\n",
    "        p0 = torch.normal(0, 1, size=(*links.shape[:-2], Nc*Nc-1))\n",
    "\n",
    "        links_next, p_final = integrator(links, p0, action_grad, tau_md, steps_md)\n",
    "        links_next = torch.cond(\n",
    "            unitary_violation_tol is not None,\n",
    "            lambda: torch.cond(\n",
    "                unitary_violation(links_next, \"mean\") > unitary_violation_tol,\n",
    "                proj_SU3,\n",
    "                lambda x: x,\n",
    "                links_next\n",
    "            ),\n",
    "            lambda: links_next\n",
    "        )\n",
    "\n",
    "        delta_hamiltonian = error_fn(links, p0, links_next, p_final)\n",
    "        p_acc = torch.minimum(torch.scalar_tensor(1, dtype=delta_hamiltonian.dtype, device=delta_hamiltonian.device), torch.exp(-delta_hamiltonian))\n",
    "        \n",
    "        return torch.cond(\n",
    "            skip_metropolis,\n",
    "            lambda: links_next,\n",
    "            lambda: torch.cond(\n",
    "                torch.rand() < p_acc,\n",
    "                lambda: links_next,\n",
    "                lambda: links\n",
    "            )\n",
    "        ), (delta_hamiltonian, p_acc)\n",
    "    \n",
    "    return torch.compile(step_fn, backend=\"cudagraphs\")"
   ]
  },
  {
   "cell_type": "code",
   "execution_count": 7,
   "metadata": {},
   "outputs": [],
   "source": [
    "L = (16, 16, 16, 16)\n",
    "\n",
    "gauge_links = FastExpiSU3.apply(torch.normal(\n",
    "    0, 1,\n",
    "    size=(*L, 4, 8),\n",
    "    dtype=torch.float32\n",
    "))\n",
    "\n",
    "stepper_fn = HMC(\n",
    "    action_fn=partial(luscher_weisz_action, beta=8.00, u0=0.8876875888655319),\n",
    "    error_fn=partial(luscher_weisz_gauge_error, beta=8.00, u0=0.8876875888655319),\n",
    "    integrator=int_4MN4FP,\n",
    "    tau_md=1.0,\n",
    "    steps_md=25,\n",
    "    unitary_violation_tol=5e-6,\n",
    ")"
   ]
  },
  {
   "cell_type": "code",
   "execution_count": 8,
   "metadata": {},
   "outputs": [
    {
     "name": "stderr",
     "output_type": "stream",
     "text": [
      "skipping cudagraphs due to skipping cudagraphs due to cpu device (normal)\n",
      "skipping cudagraphs due to skipping cudagraphs due to cpu device (arg0_1). Found from : \n",
      "   File \"/mnt/d/other-projects/lqcd-lambda/torch-implementation/integrators.py\", line 13, in _torch_scan\n",
      "    val, y = f(val, x)\n",
      "  File \"/mnt/d/other-projects/lqcd-lambda/torch-implementation/integrators.py\", line 75, in scan_fn\n",
      "    q = T_operator(q, p, rho)\n",
      "  File \"/mnt/d/other-projects/lqcd-lambda/torch-implementation/integrators.py\", line 69, in <lambda>\n",
      "    T_operator = lambda q, p, coef: torch.matmul(FastExpiSU3.apply(coef * eps * p), q)\n",
      "\n"
     ]
    },
    {
     "name": "stdout",
     "output_type": "stream",
     "text": [
      "Unexpected exception formatting exception. Falling back to standard exception\n"
     ]
    },
    {
     "name": "stderr",
     "output_type": "stream",
     "text": [
      "Traceback (most recent call last):\n",
      "  File \"/home/nobe/miniconda3/envs/lattice-qcd/lib/python3.11/site-packages/IPython/core/interactiveshell.py\", line 3546, in run_code\n",
      "    exec(code_obj, self.user_global_ns, self.user_ns)\n",
      "  File \"/tmp/ipykernel_9754/2752613319.py\", line 1, in <module>\n",
      "    test_next = stepper_fn(gauge_links)\n",
      "                ^^^^^^^^^^^^^^^^^^^^^^^\n",
      "  File \"/home/nobe/miniconda3/envs/lattice-qcd/lib/python3.11/site-packages/torch/_dynamo/eval_frame.py\", line 574, in _fn\n",
      "    return fn(*args, **kwargs)\n",
      "           ^^^^^^^^^^^^^^^^^^^\n",
      "  File \"/tmp/ipykernel_9754/615773733.py\", line 5, in step_fn\n",
      "    def step_fn(links, skip_metropolis=False):\n",
      "  File \"/mnt/d/other-projects/lqcd-lambda/torch-implementation/integrators.py\", line 66, in int_4MN4FP\n",
      "    def int_4MN4FP(q0, p0, F_func, tau, steps_md, rho=0.1786178958448091, theta=-0.06626458266981843, lambd=0.7123418310626056):\n",
      "  File \"/mnt/d/other-projects/lqcd-lambda/torch-implementation/integrators.py\", line 9, in _torch_scan\n",
      "    def _torch_scan(f, init, length):\n",
      "TypeError: expected Tensor as element 0 in argument 0, but got NoneType\n",
      "\n",
      "During handling of the above exception, another exception occurred:\n",
      "\n",
      "Traceback (most recent call last):\n",
      "  File \"/home/nobe/miniconda3/envs/lattice-qcd/lib/python3.11/site-packages/IPython/core/interactiveshell.py\", line 2170, in showtraceback\n",
      "    stb = self.InteractiveTB.structured_traceback(\n",
      "          ^^^^^^^^^^^^^^^^^^^^^^^^^^^^^^^^^^^^^^^^\n",
      "  File \"/home/nobe/miniconda3/envs/lattice-qcd/lib/python3.11/site-packages/IPython/core/ultratb.py\", line 1182, in structured_traceback\n",
      "    return FormattedTB.structured_traceback(\n",
      "           ^^^^^^^^^^^^^^^^^^^^^^^^^^^^^^^^^\n",
      "  File \"/home/nobe/miniconda3/envs/lattice-qcd/lib/python3.11/site-packages/IPython/core/ultratb.py\", line 1053, in structured_traceback\n",
      "    return VerboseTB.structured_traceback(\n",
      "           ^^^^^^^^^^^^^^^^^^^^^^^^^^^^^^^\n",
      "  File \"/home/nobe/miniconda3/envs/lattice-qcd/lib/python3.11/site-packages/IPython/core/ultratb.py\", line 861, in structured_traceback\n",
      "    formatted_exceptions: list[list[str]] = self.format_exception_as_a_whole(\n",
      "                                            ^^^^^^^^^^^^^^^^^^^^^^^^^^^^^^^^^\n",
      "  File \"/home/nobe/miniconda3/envs/lattice-qcd/lib/python3.11/site-packages/IPython/core/ultratb.py\", line 746, in format_exception_as_a_whole\n",
      "    records = self.get_records(etb, context, tb_offset) if etb else []\n",
      "              ^^^^^^^^^^^^^^^^^^^^^^^^^^^^^^^^^^^^^^^^^\n",
      "  File \"/home/nobe/miniconda3/envs/lattice-qcd/lib/python3.11/site-packages/IPython/core/ultratb.py\", line 848, in get_records\n",
      "    res = list(stack_data.FrameInfo.stack_data(etb, options=options))[tb_offset:]\n",
      "          ^^^^^^^^^^^^^^^^^^^^^^^^^^^^^^^^^^^^^^^^^^^^^^^^^^^^^^^^^^^\n",
      "  File \"/home/nobe/miniconda3/envs/lattice-qcd/lib/python3.11/site-packages/stack_data/core.py\", line 597, in stack_data\n",
      "    yield from collapse_repeated(\n",
      "  File \"/home/nobe/miniconda3/envs/lattice-qcd/lib/python3.11/site-packages/stack_data/utils.py\", line 77, in collapse_repeated\n",
      "    for is_highlighted, group in itertools.groupby(\n",
      "  File \"/home/nobe/miniconda3/envs/lattice-qcd/lib/python3.11/site-packages/stack_data/utils.py\", line 45, in highlight_unique\n",
      "    counts = Counter(lst)\n",
      "             ^^^^^^^^^^^^\n",
      "  File \"/home/nobe/miniconda3/envs/lattice-qcd/lib/python3.11/collections/__init__.py\", line 599, in __init__\n",
      "    self.update(iterable, **kwds)\n",
      "  File \"/home/nobe/miniconda3/envs/lattice-qcd/lib/python3.11/collections/__init__.py\", line 690, in update\n",
      "    _count_elements(self, iterable)\n",
      "TypeError: unhashable type: 'dict'\n"
     ]
    }
   ],
   "source": [
    "test_next = stepper_fn(gauge_links)"
   ]
  }
 ],
 "metadata": {
  "kernelspec": {
   "display_name": "lattice-qcd",
   "language": "python",
   "name": "python3"
  },
  "language_info": {
   "codemirror_mode": {
    "name": "ipython",
    "version": 3
   },
   "file_extension": ".py",
   "mimetype": "text/x-python",
   "name": "python",
   "nbconvert_exporter": "python",
   "pygments_lexer": "ipython3",
   "version": "3.11.11"
  }
 },
 "nbformat": 4,
 "nbformat_minor": 2
}
