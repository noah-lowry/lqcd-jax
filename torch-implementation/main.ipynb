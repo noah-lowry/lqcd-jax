{
 "cells": [
  {
   "cell_type": "code",
   "execution_count": 1,
   "metadata": {},
   "outputs": [],
   "source": [
    "from functools import partial\n",
    "import numpy as np\n",
    "import torch\n",
    "\n",
    "from gauge_field_utils import *\n",
    "from special_unitary import *\n",
    "from integrators import *"
   ]
  },
  {
   "cell_type": "code",
   "execution_count": 2,
   "metadata": {},
   "outputs": [],
   "source": [
    "def HMC(action_fn, error_fn, integrator, tau_md=1.0, steps_md=10, unitary_violation_tol=5e-6):\n",
    "\n",
    "    action_grad = special_unitary_grad(action_fn)\n",
    "\n",
    "    def step_fn(links, skip_metropolis=False):\n",
    "        Nc = links.shape[-1]\n",
    "\n",
    "        p0 = torch.normal(0, 1, size=(*links.shape[:-2], Nc*Nc-1), dtype=links.real.dtype, device=links.device)\n",
    "\n",
    "        links_next, p_final = integrator(links, p0, action_grad, tau_md, steps_md)\n",
    "        links_next = torch.cond(\n",
    "            unitary_violation_tol is not None,\n",
    "            lambda: torch.cond(\n",
    "                unitary_violation(links_next) > torch.scalar_tensor(unitary_violation_tol, dtype=links_next.real.dtype, device=links_next.device),\n",
    "                proj_SU3,\n",
    "                lambda x: x,\n",
    "                (links_next,)\n",
    "            ),\n",
    "            lambda: links_next\n",
    "        )\n",
    "\n",
    "        delta_hamiltonian = error_fn(links, p0, links_next, p_final)\n",
    "        p_acc = torch.minimum(torch.scalar_tensor(1, dtype=delta_hamiltonian.dtype, device=delta_hamiltonian.device), torch.exp(-delta_hamiltonian))\n",
    "        \n",
    "        return torch.cond(\n",
    "            skip_metropolis,\n",
    "            lambda: links_next,\n",
    "            lambda: torch.cond(\n",
    "                torch.rand_like(p_acc) < p_acc,\n",
    "                lambda: links_next,\n",
    "                lambda: links\n",
    "            )\n",
    "        ), (delta_hamiltonian, p_acc)\n",
    "    \n",
    "    return torch.compile(step_fn, backend=\"cudagraphs\")"
   ]
  },
  {
   "cell_type": "code",
   "execution_count": 3,
   "metadata": {},
   "outputs": [],
   "source": [
    "L = (4, 4, 4, 4)\n",
    "\n",
    "gauge_links = expi(torch.normal(\n",
    "    0, 1,\n",
    "    size=(*L, 4, 8),\n",
    "    dtype=torch.float64,\n",
    "    device=\"cuda\"\n",
    "))\n",
    "\n",
    "# stepper_fn = HMC(\n",
    "#     action_fn=partial(luscher_weisz_action, beta=8.00, u0=0.8876875888655319),\n",
    "#     error_fn=partial(luscher_weisz_gauge_error, beta=8.00, u0=0.8876875888655319),\n",
    "#     integrator=int_2MN,\n",
    "#     tau_md=1.0,\n",
    "#     steps_md=25,\n",
    "#     unitary_violation_tol=5e-6,\n",
    "# )\n",
    "stepper_fn = HMC(\n",
    "    action_fn=partial(luscher_weisz_action, beta=8.00, u0=0.8876875888655319),\n",
    "    error_fn=partial(luscher_weisz_gauge_error, beta=8.00, u0=0.8876875888655319),\n",
    "    integrator=int_2MN,\n",
    "    tau_md=1.0,\n",
    "    steps_md=25,\n",
    "    unitary_violation_tol=5e-6,\n",
    ")"
   ]
  }
 ],
 "metadata": {
  "kernelspec": {
   "display_name": "lattice-qcd",
   "language": "python",
   "name": "python3"
  },
  "language_info": {
   "codemirror_mode": {
    "name": "ipython",
    "version": 3
   },
   "file_extension": ".py",
   "mimetype": "text/x-python",
   "name": "python",
   "nbconvert_exporter": "python",
   "pygments_lexer": "ipython3",
   "version": "3.11.11"
  }
 },
 "nbformat": 4,
 "nbformat_minor": 2
}
